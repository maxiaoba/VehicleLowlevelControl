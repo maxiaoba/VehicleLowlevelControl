{
 "cells": [
  {
   "cell_type": "code",
   "execution_count": 1,
   "metadata": {},
   "outputs": [
    {
     "data": {
      "text/html": [
       "<div id=\"interact-js-shim\">\n",
       "    <script charset=\"utf-8\">\n",
       "(function (IPython, $, _, MathJax) {\n",
       "    $.event.special.destroyed = {\n",
       "\tremove: function(o) {\n",
       "\t    if (o.handler) {\n",
       "\t\to.handler.apply(this, arguments)\n",
       "\t    }\n",
       "\t}\n",
       "    }\n",
       "\n",
       "    var OutputArea = IPython.version >= \"4.0.0\" ? require(\"notebook/js/outputarea\").OutputArea : IPython.OutputArea;\n",
       "\n",
       "    var redrawValue = function (container, type, val) {\n",
       "\tvar selector = $(\"<div/>\");\n",
       "\tvar oa = new OutputArea(_.extend(selector, {\n",
       "\t    selector: selector,\n",
       "\t    prompt_area: true,\n",
       "\t    events: IPython.events,\n",
       "\t    keyboard_manager: IPython.keyboard_manager\n",
       "\t})); // Hack to work with IPython 2.1.0\n",
       "\n",
       "\tswitch (type) {\n",
       "\tcase \"image/png\":\n",
       "            var _src = 'data:' + type + ';base64,' + val;\n",
       "\t    $(container).find(\"img\").attr('src', _src);\n",
       "\t    break;\n",
       "\tcase \"text/latex\":\n",
       "\t\tif (MathJax){\n",
       "\t\t\tvar math = MathJax.Hub.getAllJax(container)[0];\n",
       "\t\t\tMathJax.Hub.Queue([\"Text\", math, val.replace(/^\\${1,2}|\\${1,2}$/g, '')]);\n",
       "\t\t\tbreak;\n",
       "\t\t}\n",
       "\tdefault:\n",
       "\t    var toinsert = OutputArea.append_map[type].apply(\n",
       "\t\toa, [val, {}, selector]\n",
       "\t    );\n",
       "\t    $(container).empty().append(toinsert.contents());\n",
       "\t    selector.remove();\n",
       "\t}\n",
       "    }\n",
       "\n",
       "\n",
       "    $(document).ready(function() {\n",
       "\tfunction initComm(evt, data) {\n",
       "\t    var comm_manager = data.kernel.comm_manager;\n",
       "        //_.extend(comm_manager.targets, require(\"widgets/js/widget\"))\n",
       "\t    comm_manager.register_target(\"Signal\", function (comm) {\n",
       "            comm.on_msg(function (msg) {\n",
       "                var val = msg.content.data.value;\n",
       "                $(\".signal-\" + comm.comm_id).each(function() {\n",
       "                var type = $(this).data(\"type\");\n",
       "                if (typeof(val[type]) !== \"undefined\" && val[type] !== null) {\n",
       "                    redrawValue(this, type, val[type], type);\n",
       "                }\n",
       "                });\n",
       "                delete val;\n",
       "                delete msg.content.data.value;\n",
       "            });\n",
       "\t    });\n",
       "\n",
       "\t    // coordingate with Comm and redraw Signals\n",
       "\t    // XXX: Test using Reactive here to improve performance\n",
       "\t    $([IPython.events]).on(\n",
       "\t\t'output_appended.OutputArea', function (event, type, value, md, toinsert) {\n",
       "\t\t    if (md && md.reactive) {\n",
       "                // console.log(md.comm_id);\n",
       "                toinsert.addClass(\"signal-\" + md.comm_id);\n",
       "                toinsert.data(\"type\", type);\n",
       "                // Signal back indicating the mimetype required\n",
       "                var comm_manager = IPython.notebook.kernel.comm_manager;\n",
       "                var comm = comm_manager.comms[md.comm_id];\n",
       "                comm.then(function (c) {\n",
       "                    c.send({action: \"subscribe_mime\",\n",
       "                       mime: type});\n",
       "                    toinsert.bind(\"destroyed\", function() {\n",
       "                        c.send({action: \"unsubscribe_mime\",\n",
       "                               mime: type});\n",
       "                    });\n",
       "                })\n",
       "\t\t    }\n",
       "\t    });\n",
       "\t}\n",
       "\n",
       "\ttry {\n",
       "\t    // try to initialize right away. otherwise, wait on the status_started event.\n",
       "\t    initComm(undefined, IPython.notebook);\n",
       "\t} catch (e) {\n",
       "\t    $([IPython.events]).on('kernel_created.Kernel kernel_created.Session', initComm);\n",
       "\t}\n",
       "    });\n",
       "})(IPython, jQuery, _, MathJax);\n",
       "</script>\n",
       "    <script>\n",
       "        window.interactLoadedFlag = true\n",
       "       $(\"#interact-js-shim\").bind(\"destroyed\", function () {\n",
       "           if (window.interactLoadedFlag) {\n",
       "               console.warn(\"JavaScript required by Interact will be removed if you remove this cell or run using Interact more than once.\")\n",
       "           }\n",
       "       })\n",
       "       $([IPython.events]).on(\"kernel_starting.Kernel kernel_restarting.Kernel\", function () { window.interactLoadedFlag = false })\n",
       "   </script>\n",
       "</div>"
      ]
     },
     "metadata": {},
     "output_type": "display_data"
    },
    {
     "name": "stderr",
     "output_type": "stream",
     "text": [
      "WARNING: Method definition copy!(Array{Float64, 1}, AutomotiveDrivingModels.LatLonAccel) in module AutomotiveDrivingModels at /Users/xiaobaima/.julia/v0.6/AutomotiveDrivingModels/src/2d/actions/lat_lon_accel.jl:13 overwritten in module AutoUrban at /Users/xiaobaima/.julia/v0.6/AutoUrban/src/simulation/actions.jl:10.\n",
      "WARNING: redefining constant DACC_MAX\n",
      "WARNING: redefining constant DSTEER_MAX\n",
      "WARNING: Method definition render(Cairo.CairoContext, Union{Records.Frame{Records.Entity{AutomotiveDrivingModels.VehicleState, AutomotiveDrivingModels.VehicleDef, Int64}}, Records.Frame{Records.Entity{AutomotiveDrivingModels.VehicleState, AutomotiveDrivingModels.BicycleModel, Int64}}}, AutomotiveDrivingModels.Roadway, Base.Dict{Int64, AutomotiveDrivingModels.DriverModel{DriveAction} where DriveAction}) in module AutoUrban at /Users/xiaobaima/.julia/v0.6/AutoUrban/src/render/render_drivers.jl:50 overwritten in module Main at /Users/xiaobaima/Dropbox/SISL/RARL/JustEgoGrey/Ad05RTheta1RSteer05Abs0FR200/../CommonFiles/render.jl:54.\n",
      "WARNING: Method definition #render(Array{Any, 1}, typeof(AutoViz.render), Cairo.CairoContext, Union{Records.Frame{Records.Entity{AutomotiveDrivingModels.VehicleState, AutomotiveDrivingModels.VehicleDef, Int64}}, Records.Frame{Records.Entity{AutomotiveDrivingModels.VehicleState, AutomotiveDrivingModels.BicycleModel, Int64}}}, AutomotiveDrivingModels.Roadway, Base.Dict{Int64, AutomotiveDrivingModels.DriverModel{DriveAction} where DriveAction}) in module AutoUrban overwritten in module Main.\n",
      "WARNING: Method definition render(Union{Records.Frame{Records.Entity{AutomotiveDrivingModels.VehicleState, AutomotiveDrivingModels.VehicleDef, Int64}}, Records.Frame{Records.Entity{AutomotiveDrivingModels.VehicleState, AutomotiveDrivingModels.BicycleModel, Int64}}}, AutomotiveDrivingModels.Roadway, Base.Dict{Int64, AutomotiveDrivingModels.DriverModel{DriveAction} where DriveAction}) in module AutoUrban at /Users/xiaobaima/.julia/v0.6/AutoUrban/src/render/render_drivers.jl:93 overwritten in module Main at /Users/xiaobaima/Dropbox/SISL/RARL/JustEgoGrey/Ad05RTheta1RSteer05Abs0FR200/../CommonFiles/render.jl:87.\n",
      "WARNING: Method definition #render(Array{Any, 1}, typeof(AutoViz.render), Union{Records.Frame{Records.Entity{AutomotiveDrivingModels.VehicleState, AutomotiveDrivingModels.VehicleDef, Int64}}, Records.Frame{Records.Entity{AutomotiveDrivingModels.VehicleState, AutomotiveDrivingModels.BicycleModel, Int64}}}, AutomotiveDrivingModels.Roadway, Base.Dict{Int64, AutomotiveDrivingModels.DriverModel{DriveAction} where DriveAction}) in module AutoUrban overwritten in module Main.\n",
      "WARNING: Method definition info(Any...) in module Base at util.jl:532 overwritten in module Logging at /Users/xiaobaima/.julia/v0.6/Logging/src/Logging.jl:115.\n",
      "WARNING: Method definition warn(Any...) in module Base at util.jl:585 overwritten in module Logging at /Users/xiaobaima/.julia/v0.6/Logging/src/Logging.jl:115.\n",
      "WARNING: using DeepRL.render in module Main conflicts with an existing identifier.\n"
     ]
    }
   ],
   "source": [
    "include(\"../Ad05RTheta1RSteer05Abs0FR200/preloadRARL.jl\")\n",
    "using PyCall\n",
    "using Distributions\n",
    "unshift!(PyVector(pyimport(\"sys\")[\"path\"]), \"\")\n",
    "unshift!(PyVector(pyimport(\"sys\")[\"path\"]), \"..\")\n",
    "unshift!(PyVector(pyimport(\"sys\")[\"path\"]), \"../Ad05RTheta1RSteer05Abs0FR200\")\n",
    "unshift!(PyVector(pyimport(\"sys\")[\"path\"]), \"../CommonFiles\")\n",
    "@pyimport python2juliaReuse as p2j"
   ]
  },
  {
   "cell_type": "code",
   "execution_count": 2,
   "metadata": {
    "collapsed": true
   },
   "outputs": [],
   "source": [
    "# policies = [\"Baseline/Rewards/b_15e3_3\",\"Retrain/Rewards/rarl\",\"Retrain/Rewards/rarlP10\",\n",
    "#             \"FSP/Rewards/nBnoTR\",\"FSP/Rewards/nBnoTRP10\"]"
   ]
  },
  {
   "cell_type": "code",
   "execution_count": 3,
   "metadata": {},
   "outputs": [
    {
     "name": "stderr",
     "output_type": "stream",
     "text": [
      "2018-09-05 13:46:30.145521: W tensorflow/core/platform/cpu_feature_guard.cc:45] The TensorFlow library wasn't compiled to use SSE4.2 instructions, but these are available on your machine and could speed up CPU computations.\n",
      "2018-09-05 13:46:30.145535: W tensorflow/core/platform/cpu_feature_guard.cc:45] The TensorFlow library wasn't compiled to use AVX instructions, but these are available on your machine and could speed up CPU computations.\n",
      "2018-09-05 13:46:30.145539: W tensorflow/core/platform/cpu_feature_guard.cc:45] The TensorFlow library wasn't compiled to use AVX2 instructions, but these are available on your machine and could speed up CPU computations.\n",
      "2018-09-05 13:46:30.145542: W tensorflow/core/platform/cpu_feature_guard.cc:45] The TensorFlow library wasn't compiled to use FMA instructions, but these are available on your machine and could speed up CPU computations.\n",
      "WARNING: redefining constant DACC_MAX\n",
      "WARNING: redefining constant DSTEER_MAX\n",
      "WARNING: redefining constant ACONST\n",
      "WARNING: redefining constant BCONST\n",
      "WARNING: redefining constant CCONST\n",
      "WARNING: redefining constant DACC_MAX\n",
      "WARNING: redefining constant DSTEER_MAX\n",
      "05-Sep 13:46:30:WARNING:root:replacing docs for 'close :: Tuple{ZMQTransport}' in module 'Main'.\n",
      "05-Sep 13:46:30:WARNING:root:replacing docs for 'recvreq :: Tuple{ZMQTransport}' in module 'Main'.\n",
      "05-Sep 13:46:30:WARNING:root:replacing docs for 'sendresp :: Tuple{ZMQTransport,Any}' in module 'Main'.\n"
     ]
    },
    {
     "data": {
      "text/plain": [
       "run_env_server_rarl (generic function with 1 method)"
      ]
     },
     "execution_count": 3,
     "metadata": {},
     "output_type": "execute_result"
    }
   ],
   "source": [
    "pc = p2j.PolicyContainer()\n",
    "path = \"Data/Sep1/Ad05RTheta1RSteer05Abs0FR200/\"\n",
    "# policies = readdir(string(path,\"Policy\"))\n",
    "# pnames = []\n",
    "# for i = 1:length(policies)\n",
    "#     if policies[i] != \".DS_Store\"\n",
    "#         push!(pnames,policies[i][1:length(policies[i])-4])\n",
    "#     end\n",
    "# end\n",
    "# println(pnames)\n",
    "pnames = [\"b_10e3\",\"rarl_1e3\",\"fsp_1e3\"]\n",
    "include(\"../Ad05RTheta1RSteer05Abs0FR200/preloadRARL.jl\")\n"
   ]
  },
  {
   "cell_type": "code",
   "execution_count": 4,
   "metadata": {},
   "outputs": [
    {
     "data": {
      "text/plain": [
       "Counter"
      ]
     },
     "execution_count": 4,
     "metadata": {},
     "output_type": "execute_result"
    }
   ],
   "source": [
    "mutable struct Counter\n",
    "    i::Int\n",
    "    I::Int\n",
    "    num_collision::Int\n",
    "    rate_collision::Float64\n",
    "    total_reward::Float64\n",
    "    single_reward::Float64\n",
    "    avg_reward::Float64\n",
    "    max_reward::Float64\n",
    "    min_reward::Float64\n",
    "    rewards::Array{Float64}\n",
    "    done::Bool\n",
    "    direction::Int\n",
    "    total_speed::Float64\n",
    "    single_speed::Float64\n",
    "    avg_speed::Float64\n",
    "    speeds::Array{Float64}\n",
    "    single_time::Float64\n",
    "    total_time::Float64\n",
    "    time_between_collisions::Float64\n",
    "    total_reward_d::Float64\n",
    "    single_reward_d::Float64\n",
    "    avg_reward_d::Float64\n",
    "    rewards_d::Array{Float64}\n",
    "end\n",
    "function Counter(N::Int)\n",
    "    return Counter(0,N,0,0.0,0.0,0.0,0.0,-Inf,Inf,zeros(N),false,-1,\n",
    "        0.0,0.0,0.0,zeros(N),0.0,0.0,0.0,0.0,0.0,0.0,zeros(N))\n",
    "end"
   ]
  },
  {
   "cell_type": "code",
   "execution_count": 7,
   "metadata": {},
   "outputs": [
    {
     "data": {
      "text/plain": [
       "handle_action_max! (generic function with 1 method)"
      ]
     },
     "execution_count": 7,
     "metadata": {},
     "output_type": "execute_result"
    }
   ],
   "source": [
    "function handle_action_max!(pc,scene,models,roadway,counter,rarl,reverse)\n",
    "    state = get_observation(scene,models,roadway)\n",
    "    if rarl\n",
    "#         action1_arr = pc[:getAction_just](state)\n",
    "        dist = pc[:getActionDistribution_just](state)\n",
    "        action1_arr = dist[\"mean\"]\n",
    "    else\n",
    "        action1_arr = pc[:getAction_just_baseline](state)\n",
    "    end\n",
    "    action1_arr = tanh.(action1_arr)\n",
    "\n",
    "    dacc = 1.0\n",
    "    dsteer = 1.0\n",
    "    if reverse\n",
    "        dacc = -dacc\n",
    "        dsteer = -dsteer\n",
    "    end\n",
    "    action = Egoaction(action1_arr[1],action1_arr[2],dacc,dsteer)\n",
    "    \n",
    "    done, bump = simulate_action!(action,scene,models,roadway)\n",
    "    counter.single_time += TIMESTEP\n",
    "    counter.total_time += TIMESTEP\n",
    "    reward = reward_fn(action,done,scene,models,roadway)\n",
    "    if bump\n",
    "        counter.num_collision += 1\n",
    "    else\n",
    "        counter.total_reward_d += reward\n",
    "        counter.single_reward_d += reward\n",
    "    end\n",
    "    \n",
    "    counter.total_reward += reward\n",
    "    counter.single_reward += reward\n",
    "    \n",
    "    speed = scene[1].state.v\n",
    "    counter.single_speed += speed\n",
    "    counter.total_speed += speed\n",
    "    \n",
    "    if done\n",
    "        pc[:resetPolicy](1)\n",
    "        rand_ego!(scene,models,roadway)\n",
    "        \n",
    "        counter.i += 1\n",
    "        if counter.single_reward > counter.max_reward\n",
    "            counter.max_reward = counter.single_reward\n",
    "        end\n",
    "        if counter.single_reward < counter.min_reward\n",
    "            counter.min_reward = counter.single_reward\n",
    "        end\n",
    "        if counter.i > counter.I\n",
    "            counter.done = true\n",
    "            counter.avg_reward = counter.total_reward/counter.I\n",
    "            counter.rate_collision = counter.num_collision/counter.I\n",
    "            counter.avg_reward_d = counter.total_reward_d/counter.I\n",
    "            counter.avg_speed = counter.total_speed/(counter.total_time/TIMESTEP)\n",
    "            counter.time_between_collisions = counter.total_time/counter.num_collision\n",
    "        else\n",
    "            counter.rewards[counter.i] = counter.single_reward\n",
    "            counter.rewards_d[counter.i] = counter.single_reward_d\n",
    "            counter.speeds[counter.i] = counter.single_speed/(counter.single_time/TIMESTEP)\n",
    "        end\n",
    "        counter.single_reward = 0.0\n",
    "        counter.single_reward_d = 0.0\n",
    "        counter.single_speed = 0.0\n",
    "        counter.single_time = 0.0\n",
    "    end\n",
    "    \n",
    "    \n",
    "end"
   ]
  },
  {
   "cell_type": "code",
   "execution_count": 8,
   "metadata": {},
   "outputs": [
    {
     "name": "stdout",
     "output_type": "stream",
     "text": [
      "b_10e3\n",
      "563.7718662638043\n",
      "0.0\n",
      "439.02277326128404\n",
      "0.0\n",
      "rarl_1e3\n",
      "575.7598226107929\n",
      "0.0\n",
      "434.0355221834726\n",
      "0.0\n",
      "fsp_1e3\n",
      "566.9017735092768\n",
      "0.0\n",
      "6.260580256461009\n",
      "0.0\n"
     ]
    }
   ],
   "source": [
    "log_path = string(path,\"Max/\")\n",
    "scene, models, roadway = initialize_env()\n",
    "\n",
    "for pname in pnames\n",
    "    println(pname)\n",
    "    policy_path = string(path,\"Policy/\",pname,\".pkl\")\n",
    "    pc[:reset_policy](policy_path=policy_path)\n",
    "    N = 5\n",
    "\n",
    "    counter = Counter(N)\n",
    "    rand_ego!(scene,models,roadway)\n",
    "    pc[:resetPolicy](1)\n",
    "    while !counter.done\n",
    "        handle_action_max!(pc,scene,models,roadway,counter,true,false)\n",
    "    end\n",
    "    println(counter.avg_reward)\n",
    "    println(counter.rate_collision)\n",
    "    \n",
    "    writedlm(string(log_path,pname,\"_rewards\",\".txt\"),counter.rewards)\n",
    "    writedlm(string(log_path,pname,\"_rewards_d\",\".txt\"),counter.rewards_d)\n",
    "    writedlm(string(log_path,pname,\"_speeds\",\".txt\"),counter.speeds)\n",
    "    writedlm(string(log_path,pname,\"_collision_rate\",\".txt\"),counter.rate_collision)\n",
    "\n",
    "    counter2 = Counter(N)\n",
    "    rand_ego!(scene,models,roadway)\n",
    "    pc[:resetPolicy](1)\n",
    "    while !counter2.done\n",
    "        handle_action_max!(pc,scene,models,roadway,counter2,true,true)\n",
    "    end\n",
    "    println(counter2.avg_reward)\n",
    "    println(counter2.rate_collision)\n",
    "\n",
    "    writedlm(string(log_path,pname,\"_rewards2\",\".txt\"),counter2.rewards)\n",
    "    writedlm(string(log_path,pname,\"_rewards_d2\",\".txt\"),counter2.rewards_d)\n",
    "    writedlm(string(log_path,pname,\"_speeds2\",\".txt\"),counter2.speeds)\n",
    "    writedlm(string(log_path,pname,\"_collision_rate2\",\".txt\"),counter2.rate_collision)\n",
    "end"
   ]
  },
  {
   "cell_type": "code",
   "execution_count": null,
   "metadata": {
    "collapsed": true
   },
   "outputs": [],
   "source": []
  }
 ],
 "metadata": {
  "kernelspec": {
   "display_name": "Julia 0.6.0",
   "language": "julia",
   "name": "julia-0.6"
  },
  "language_info": {
   "file_extension": ".jl",
   "mimetype": "application/julia",
   "name": "julia",
   "version": "0.6.0"
  },
  "widgets": {
   "state": {},
   "version": "1.1.2"
  }
 },
 "nbformat": 4,
 "nbformat_minor": 2
}
