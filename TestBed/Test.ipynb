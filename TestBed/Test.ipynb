{
 "cells": [
  {
   "cell_type": "code",
   "execution_count": 1,
   "metadata": {},
   "outputs": [
    {
     "data": {
      "text/html": [
       "<div id=\"interact-js-shim\">\n",
       "    <script charset=\"utf-8\">\n",
       "(function (IPython, $, _, MathJax) {\n",
       "    $.event.special.destroyed = {\n",
       "\tremove: function(o) {\n",
       "\t    if (o.handler) {\n",
       "\t\to.handler.apply(this, arguments)\n",
       "\t    }\n",
       "\t}\n",
       "    }\n",
       "\n",
       "    var OutputArea = IPython.version >= \"4.0.0\" ? require(\"notebook/js/outputarea\").OutputArea : IPython.OutputArea;\n",
       "\n",
       "    var redrawValue = function (container, type, val) {\n",
       "\tvar selector = $(\"<div/>\");\n",
       "\tvar oa = new OutputArea(_.extend(selector, {\n",
       "\t    selector: selector,\n",
       "\t    prompt_area: true,\n",
       "\t    events: IPython.events,\n",
       "\t    keyboard_manager: IPython.keyboard_manager\n",
       "\t})); // Hack to work with IPython 2.1.0\n",
       "\n",
       "\tswitch (type) {\n",
       "\tcase \"image/png\":\n",
       "            var _src = 'data:' + type + ';base64,' + val;\n",
       "\t    $(container).find(\"img\").attr('src', _src);\n",
       "\t    break;\n",
       "\tcase \"text/latex\":\n",
       "\t\tif (MathJax){\n",
       "\t\t\tvar math = MathJax.Hub.getAllJax(container)[0];\n",
       "\t\t\tMathJax.Hub.Queue([\"Text\", math, val.replace(/^\\${1,2}|\\${1,2}$/g, '')]);\n",
       "\t\t\tbreak;\n",
       "\t\t}\n",
       "\tdefault:\n",
       "\t    var toinsert = OutputArea.append_map[type].apply(\n",
       "\t\toa, [val, {}, selector]\n",
       "\t    );\n",
       "\t    $(container).empty().append(toinsert.contents());\n",
       "\t    selector.remove();\n",
       "\t}\n",
       "    }\n",
       "\n",
       "\n",
       "    $(document).ready(function() {\n",
       "\tfunction initComm(evt, data) {\n",
       "\t    var comm_manager = data.kernel.comm_manager;\n",
       "        //_.extend(comm_manager.targets, require(\"widgets/js/widget\"))\n",
       "\t    comm_manager.register_target(\"Signal\", function (comm) {\n",
       "            comm.on_msg(function (msg) {\n",
       "                var val = msg.content.data.value;\n",
       "                $(\".signal-\" + comm.comm_id).each(function() {\n",
       "                var type = $(this).data(\"type\");\n",
       "                if (typeof(val[type]) !== \"undefined\" && val[type] !== null) {\n",
       "                    redrawValue(this, type, val[type], type);\n",
       "                }\n",
       "                });\n",
       "                delete val;\n",
       "                delete msg.content.data.value;\n",
       "            });\n",
       "\t    });\n",
       "\n",
       "\t    // coordingate with Comm and redraw Signals\n",
       "\t    // XXX: Test using Reactive here to improve performance\n",
       "\t    $([IPython.events]).on(\n",
       "\t\t'output_appended.OutputArea', function (event, type, value, md, toinsert) {\n",
       "\t\t    if (md && md.reactive) {\n",
       "                // console.log(md.comm_id);\n",
       "                toinsert.addClass(\"signal-\" + md.comm_id);\n",
       "                toinsert.data(\"type\", type);\n",
       "                // Signal back indicating the mimetype required\n",
       "                var comm_manager = IPython.notebook.kernel.comm_manager;\n",
       "                var comm = comm_manager.comms[md.comm_id];\n",
       "                comm.then(function (c) {\n",
       "                    c.send({action: \"subscribe_mime\",\n",
       "                       mime: type});\n",
       "                    toinsert.bind(\"destroyed\", function() {\n",
       "                        c.send({action: \"unsubscribe_mime\",\n",
       "                               mime: type});\n",
       "                    });\n",
       "                })\n",
       "\t\t    }\n",
       "\t    });\n",
       "\t}\n",
       "\n",
       "\ttry {\n",
       "\t    // try to initialize right away. otherwise, wait on the status_started event.\n",
       "\t    initComm(undefined, IPython.notebook);\n",
       "\t} catch (e) {\n",
       "\t    $([IPython.events]).on('kernel_created.Kernel kernel_created.Session', initComm);\n",
       "\t}\n",
       "    });\n",
       "})(IPython, jQuery, _, MathJax);\n",
       "</script>\n",
       "    <script>\n",
       "        window.interactLoadedFlag = true\n",
       "       $(\"#interact-js-shim\").bind(\"destroyed\", function () {\n",
       "           if (window.interactLoadedFlag) {\n",
       "               console.warn(\"JavaScript required by Interact will be removed if you remove this cell or run using Interact more than once.\")\n",
       "           }\n",
       "       })\n",
       "       $([IPython.events]).on(\"kernel_starting.Kernel kernel_restarting.Kernel\", function () { window.interactLoadedFlag = false })\n",
       "   </script>\n",
       "</div>"
      ]
     },
     "metadata": {},
     "output_type": "display_data"
    },
    {
     "name": "stderr",
     "output_type": "stream",
     "text": [
      "WARNING: Method definition copy!(Array{Float64, 1}, AutomotiveDrivingModels.LatLonAccel) in module AutomotiveDrivingModels at /Users/xiaobaima/.julia/v0.6/AutomotiveDrivingModels/src/2d/actions/lat_lon_accel.jl:13 overwritten in module AutoUrban at /Users/xiaobaima/.julia/v0.6/AutoUrban/src/simulation/actions.jl:10.\n",
      "WARNING: Method definition render(Cairo.CairoContext, Union{Records.Frame{Records.Entity{AutomotiveDrivingModels.VehicleState, AutomotiveDrivingModels.VehicleDef, Int64}}, Records.Frame{Records.Entity{AutomotiveDrivingModels.VehicleState, AutomotiveDrivingModels.BicycleModel, Int64}}}, AutomotiveDrivingModels.Roadway, Base.Dict{Int64, AutomotiveDrivingModels.DriverModel{DriveAction} where DriveAction}) in module AutoUrban at /Users/xiaobaima/.julia/v0.6/AutoUrban/src/render/render_drivers.jl:50 overwritten in module Main at /Users/xiaobaima/Dropbox/SISL/RARL/JustEgoGrey/TestBed/../CommonFiles/render.jl:54.\n",
      "WARNING: Method definition #render(Array{Any, 1}, typeof(AutoViz.render), Cairo.CairoContext, Union{Records.Frame{Records.Entity{AutomotiveDrivingModels.VehicleState, AutomotiveDrivingModels.VehicleDef, Int64}}, Records.Frame{Records.Entity{AutomotiveDrivingModels.VehicleState, AutomotiveDrivingModels.BicycleModel, Int64}}}, AutomotiveDrivingModels.Roadway, Base.Dict{Int64, AutomotiveDrivingModels.DriverModel{DriveAction} where DriveAction}) in module AutoUrban overwritten in module Main.\n",
      "WARNING: Method definition render(Union{Records.Frame{Records.Entity{AutomotiveDrivingModels.VehicleState, AutomotiveDrivingModels.VehicleDef, Int64}}, Records.Frame{Records.Entity{AutomotiveDrivingModels.VehicleState, AutomotiveDrivingModels.BicycleModel, Int64}}}, AutomotiveDrivingModels.Roadway, Base.Dict{Int64, AutomotiveDrivingModels.DriverModel{DriveAction} where DriveAction}) in module AutoUrban at /Users/xiaobaima/.julia/v0.6/AutoUrban/src/render/render_drivers.jl:93 overwritten in module Main at /Users/xiaobaima/Dropbox/SISL/RARL/JustEgoGrey/TestBed/../CommonFiles/render.jl:87.\n",
      "WARNING: Method definition #render(Array{Any, 1}, typeof(AutoViz.render), Union{Records.Frame{Records.Entity{AutomotiveDrivingModels.VehicleState, AutomotiveDrivingModels.VehicleDef, Int64}}, Records.Frame{Records.Entity{AutomotiveDrivingModels.VehicleState, AutomotiveDrivingModels.BicycleModel, Int64}}}, AutomotiveDrivingModels.Roadway, Base.Dict{Int64, AutomotiveDrivingModels.DriverModel{DriveAction} where DriveAction}) in module AutoUrban overwritten in module Main.\n",
      "WARNING: redefining constant ACONST\n",
      "WARNING: redefining constant BCONST\n",
      "WARNING: redefining constant CCONST\n",
      "2018-08-31 13:26:52.819990: W tensorflow/core/platform/cpu_feature_guard.cc:45] The TensorFlow library wasn't compiled to use SSE4.2 instructions, but these are available on your machine and could speed up CPU computations.\n",
      "2018-08-31 13:26:52.820006: W tensorflow/core/platform/cpu_feature_guard.cc:45] The TensorFlow library wasn't compiled to use AVX instructions, but these are available on your machine and could speed up CPU computations.\n",
      "2018-08-31 13:26:52.820009: W tensorflow/core/platform/cpu_feature_guard.cc:45] The TensorFlow library wasn't compiled to use AVX2 instructions, but these are available on your machine and could speed up CPU computations.\n",
      "2018-08-31 13:26:52.820012: W tensorflow/core/platform/cpu_feature_guard.cc:45] The TensorFlow library wasn't compiled to use FMA instructions, but these are available on your machine and could speed up CPU computations.\n"
     ]
    }
   ],
   "source": [
    "include(\"preload.jl\")\n",
    "using PyCall\n",
    "unshift!(PyVector(pyimport(\"sys\")[\"path\"]), \"\")\n",
    "unshift!(PyVector(pyimport(\"sys\")[\"path\"]), \"..\")\n",
    "@pyimport python2juliaReuse as p2j\n",
    "include(\"preload.jl\")\n",
    "pc = p2j.PolicyContainer()\n",
    "using Distributions"
   ]
  },
  {
   "cell_type": "code",
   "execution_count": 2,
   "metadata": {},
   "outputs": [],
   "source": [
    "unshift!(PyVector(pyimport(\"sys\")[\"path\"]), \"../Ad05RTheta1RSteer05Abs0FR200\")\n",
    "pc[:reset_policy](policy_path=\"Data/Ad05RTheta1RSteer05Abs0FR200/Policy/fsp_sample_4e2.pkl\")"
   ]
  },
  {
   "cell_type": "code",
   "execution_count": 3,
   "metadata": {},
   "outputs": [
    {
     "data": {
      "text/plain": [
       "handle_action! (generic function with 1 method)"
      ]
     },
     "execution_count": 3,
     "metadata": {},
     "output_type": "execute_result"
    }
   ],
   "source": [
    "function handle_action!(scene,models,roadway,text;reverse=false)\n",
    "    state = get_observation(scene,models,roadway)\n",
    "\n",
    "    action1_arr = pc[:getAction](state,1)\n",
    "    action1_arr = tanh.(action1_arr)\n",
    "    \n",
    "#     dacc = rand(pareto)-2.0\n",
    "#     dsteer = rand(pareto)-2.0\n",
    "#     if reverse\n",
    "#         dacc = -dacc\n",
    "#         dsteer = -dsteer\n",
    "#     end\n",
    "    dacc = 0.0\n",
    "    dsteer = 0.0\n",
    "    \n",
    "    action = Egoaction(action1_arr[1],action1_arr[2],dacc,dsteer)\n",
    "    bump,fail = simulate_action!(action,scene,models,roadway)\n",
    "    reward = reward_fn(action,fail,scene,models,roadway)\n",
    "    if bump\n",
    "        rand_ego!(scene,models,roadway)\n",
    "        pc[:resetPolicy](1)\n",
    "    end\n",
    "    state = get_observation(scene,models,roadway)\n",
    "    empty!(text)\n",
    "    push!(text,string(\"speed: \",scene[1].state.v))\n",
    "    render(scene,roadway,models,text=text,cam=CarFollowCamera{Int}(1, 10.0))\n",
    "end"
   ]
  },
  {
   "cell_type": "code",
   "execution_count": 4,
   "metadata": {},
   "outputs": [
    {
     "data": {
      "text/plain": [
       "drawsim (generic function with 2 methods)"
      ]
     },
     "execution_count": 4,
     "metadata": {},
     "output_type": "execute_result"
    }
   ],
   "source": [
    "function drawsim(t,dt=NaN)\n",
    "    handle_action!(scene,models,roadway,text,reverse=true)\n",
    "end"
   ]
  },
  {
   "cell_type": "code",
   "execution_count": 5,
   "metadata": {},
   "outputs": [
    {
     "data": {
      "image/png": "[encoded data removed]",
      "text/plain": [
       "Cairo.CairoSurface{UInt32}(Ptr{Void} @0x00007fe1fc4920b0, 1000.0, 600.0, #undef)"
      ]
     },
     "execution_count": 5,
     "metadata": {},
     "output_type": "execute_result"
    }
   ],
   "source": [
    "scene, models, roadway = initialize_env()\n",
    "text = [\"Nothing\"]\n",
    "pc[:resetPolicy](1)\n",
    "pareto=Pareto(1.0,1)\n",
    "rand_ego!(scene,models,roadway)\n",
    "render(scene,roadway)"
   ]
  },
  {
   "cell_type": "code",
   "execution_count": 6,
   "metadata": {},
   "outputs": [
    {
     "data": {
      "image/png": "[encoded data removed]",
      "text/plain": [
       "Cairo.CairoSurface{UInt32}(Ptr{Void} @0x00007fe1fc8ed3d0, 1000.0, 600.0, #undef)"
      ]
     },
     "execution_count": 6,
     "metadata": {},
     "output_type": "execute_result"
    }
   ],
   "source": [
    "drawsim(0.0)"
   ]
  },
  {
   "cell_type": "code",
   "execution_count": 7,
   "metadata": {},
   "outputs": [
    {
     "data": {
      "image/png": "[encoded data removed]",
      "text/plain": [
       "Cairo.CairoSurface{UInt32}(Ptr{Void} @0x00007fe1fcc0f7b0, 1000.0, 600.0, #undef)"
      ]
     },
     "execution_count": 7,
     "metadata": {
      "comm_id": "dc1889ac-0e5c-4aeb-a6c0-23f6d7999104",
      "reactive": true
     },
     "output_type": "execute_result"
    }
   ],
   "source": [
    "framerate = 20\n",
    "ticks = fps(framerate)\n",
    "timestamps = map(_ -> time(), ticks)\n",
    "map(drawsim,timestamps)"
   ]
  },
  {
   "cell_type": "code",
   "execution_count": null,
   "metadata": {
    "collapsed": true
   },
   "outputs": [],
   "source": [
    "using Reel\n",
    "framerate = 24\n",
    "\n",
    "film = roll(drawsim, fps=framerate, duration=30)\n",
    "write(\"Data/White/TanhEnv/Data/GIF/fsp15e3_pareto1_reverse.gif\", film) # Write to a gif file"
   ]
  },
  {
   "cell_type": "code",
   "execution_count": null,
   "metadata": {
    "collapsed": true
   },
   "outputs": [],
   "source": []
  }
 ],
 "metadata": {
  "kernelspec": {
   "display_name": "Julia 0.6.0",
   "language": "julia",
   "name": "julia-0.6"
  },
  "language_info": {
   "file_extension": ".jl",
   "mimetype": "application/julia",
   "name": "julia",
   "version": "0.6.0"
  },
  "widgets": {
   "state": {},
   "version": "1.1.2"
  }
 },
 "nbformat": 4,
 "nbformat_minor": 2
}
