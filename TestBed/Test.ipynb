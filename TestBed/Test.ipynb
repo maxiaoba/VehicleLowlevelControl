{
 "cells": [
  {
   "cell_type": "code",
   "execution_count": null,
   "metadata": {},
   "outputs": [],
   "source": [
    "include(\"preload.jl\")\n",
    "using PyCall\n",
    "unshift!(PyVector(pyimport(\"sys\")[\"path\"]), \"\")\n",
    "@pyimport python2juliaReuse as p2j\n",
    "include(\"preload.jl\")\n",
    "pc = p2j.PolicyContainer()\n",
    "using Distributions"
   ]
  },
  {
   "cell_type": "code",
   "execution_count": null,
   "metadata": {
    "collapsed": true
   },
   "outputs": [],
   "source": [
    "pc[:reset_policy](policy_path=\"Data/Normal/Policy/fsp_4e3.pkl\")"
   ]
  },
  {
   "cell_type": "code",
   "execution_count": null,
   "metadata": {},
   "outputs": [],
   "source": [
    "function handle_action!(scene,models,roadway,text;reverse=false)\n",
    "    state = get_observation(scene,models,roadway)\n",
    "\n",
    "    action1_arr = pc[:getAction](state,1)\n",
    "    action1_arr = tanh.(action1_arr)\n",
    "    \n",
    "#     dacc = rand(pareto)-2.0\n",
    "#     dsteer = rand(pareto)-2.0\n",
    "#     if reverse\n",
    "#         dacc = -dacc\n",
    "#         dsteer = -dsteer\n",
    "#     end\n",
    "    dacc = 0.0\n",
    "    dsteer = 0.0\n",
    "    \n",
    "    action = Egoaction(action1_arr[1],action1_arr[2],dacc,dsteer)\n",
    "    bump,fail = simulate_action!(action,scene,models,roadway)\n",
    "    reward = reward_fn(action,fail,scene,models,roadway)\n",
    "    if bump\n",
    "        rand_ego!(scene,models,roadway)\n",
    "        pc[:resetPolicy](1)\n",
    "    end\n",
    "    state = get_observation(scene,models,roadway)\n",
    "    empty!(text)\n",
    "    push!(text,string(\"speed: \",scene[1].state.v))\n",
    "    render(scene,roadway,models,text=text,cam=CarFollowCamera{Int}(1, 10.0))\n",
    "end"
   ]
  },
  {
   "cell_type": "code",
   "execution_count": null,
   "metadata": {},
   "outputs": [],
   "source": [
    "function drawsim(t,dt=NaN)\n",
    "    handle_action!(scene,models,roadway,text,reverse=true)\n",
    "end"
   ]
  },
  {
   "cell_type": "code",
   "execution_count": null,
   "metadata": {},
   "outputs": [],
   "source": [
    "scene, models, roadway = initialize_env()\n",
    "text = [\"Nothing\"]\n",
    "pc[:resetPolicy](1)\n",
    "pareto=Pareto(1.0,1)\n",
    "rand_ego!(scene,models,roadway)\n",
    "render(scene,roadway)"
   ]
  },
  {
   "cell_type": "code",
   "execution_count": null,
   "metadata": {},
   "outputs": [],
   "source": [
    "drawsim(0.0)"
   ]
  },
  {
   "cell_type": "code",
   "execution_count": null,
   "metadata": {},
   "outputs": [],
   "source": [
    "framerate = 20\n",
    "ticks = fps(framerate)\n",
    "timestamps = map(_ -> time(), ticks)\n",
    "map(drawsim,timestamps)"
   ]
  },
  {
   "cell_type": "code",
   "execution_count": null,
   "metadata": {
    "collapsed": true
   },
   "outputs": [],
   "source": [
    "using Reel\n",
    "framerate = 24\n",
    "\n",
    "film = roll(drawsim, fps=framerate, duration=30)\n",
    "write(\"Data/White/TanhEnv/Data/GIF/fsp15e3_pareto1_reverse.gif\", film) # Write to a gif file"
   ]
  },
  {
   "cell_type": "code",
   "execution_count": null,
   "metadata": {
    "collapsed": true
   },
   "outputs": [],
   "source": []
  }
 ],
 "metadata": {
  "kernelspec": {
   "display_name": "Julia 0.6.0",
   "language": "julia",
   "name": "julia-0.6"
  },
  "language_info": {
   "file_extension": ".jl",
   "mimetype": "application/julia",
   "name": "julia",
   "version": "0.6.0"
  },
  "widgets": {
   "state": {},
   "version": "1.1.2"
  }
 },
 "nbformat": 4,
 "nbformat_minor": 2
}
