{
 "cells": [
  {
   "cell_type": "code",
   "execution_count": null,
   "metadata": {
    "collapsed": true
   },
   "outputs": [],
   "source": [
    "using PGFPlots"
   ]
  },
  {
   "cell_type": "code",
   "execution_count": null,
   "metadata": {},
   "outputs": [],
   "source": [
    "path = \"Data/Sep1/Ad05RTheta1RSteer05Abs0FR200/\"\n",
    "# policies = readdir(\"Policy\")\n",
    "# pnames = []\n",
    "# for i = 1:length(policies)\n",
    "#     if policies[i] != \".DS_Store\"\n",
    "#         push!(pnames,policies[i][1:length(policies[i])-4])\n",
    "#     end\n",
    "# end\n",
    "# println(pnames)\n",
    "\n",
    "pnames = [\"b_10e3\",\"rarl_1e3\",\"fsp_1e3\",\"mpc\"]\n",
    "legends = [\"b 1e3\",\"rarl 1e3\",\"fsp 1e3\",\"mpc\"]"
   ]
  },
  {
   "cell_type": "code",
   "execution_count": null,
   "metadata": {},
   "outputs": [],
   "source": [
    "colors = [\"black\",\"blue\",\"red\",\"orange\"]\n",
    "# colors = [\"blue\",\"red\"]"
   ]
  },
  {
   "cell_type": "code",
   "execution_count": null,
   "metadata": {
    "collapsed": true
   },
   "outputs": [],
   "source": [
    "# policies = [\"Baseline/Rewards/b_15e3_3\",\"Retrain/Rewards/rarl\",\"Retrain/Rewards/rarlP10\",\n",
    "#             \"FSP/Rewards/nBnoTR\",\"FSP/Rewards/nBnoTRP10\"]"
   ]
  },
  {
   "cell_type": "markdown",
   "metadata": {},
   "source": [
    "## Multi-Pareto "
   ]
  },
  {
   "cell_type": "code",
   "execution_count": null,
   "metadata": {
    "collapsed": true
   },
   "outputs": [],
   "source": [
    "plots_r = Array{PGFPlots.Plots.Linear}(0)\n",
    "plots_cr = Array{PGFPlots.Plots.Linear}(0)\n",
    "\n",
    "for i = 1:length(pnames)\n",
    "    policy = pnames[i]\n",
    "    rewards = Array{Float64}(0)\n",
    "    reward_errs = Array{Float64}(0)\n",
    "    collision_rates = Array{Float64}(0)\n",
    "    for alpha in 1:10\n",
    "        reward=readdlm(string(path,\"Pareto/\",policy,\"_rewards_d_pareto\",alpha,\".txt\"))\n",
    "        collision_rate=readdlm(string(path,\"Pareto/\",policy,\"_collision_rate_pareto\",alpha,\".txt\"))\n",
    "        push!(rewards,mean(reward))\n",
    "        push!(reward_errs,std(reward)/sqrt(length(reward)))\n",
    "        push!(collision_rates,mean(collision_rate))\n",
    "    end\n",
    "    \n",
    "    push!(plots_r,Plots.Linear(1:10, rewards, legendentry=legends[i],style=string(colors[i],\",very thick\"),mark=\"o\",errorBars = ErrorBars(y=reward_errs)))\n",
    "#     push!(plots_r,Plots.Linear(1:10, rewards, legendentry=legends[i],style=string(colors[i],\",very thick\"),mark=\"o\"))\n",
    "    push!(plots_cr,Plots.Linear(1:10, collision_rates, legendentry=legends[i],style=string(colors[i],\",very thick\"),mark=\"o\"))\n",
    "end"
   ]
  },
  {
   "cell_type": "code",
   "execution_count": null,
   "metadata": {},
   "outputs": [],
   "source": [
    "a=Axis(plots_r, legendPos=\"north east\",width=\"20cm\", height=\"20cm\",\n",
    "    xlabel=L\"Shape Parameter $\\beta$\",ylabel=\"Undiscounted Average Reward\")"
   ]
  },
  {
   "cell_type": "code",
   "execution_count": null,
   "metadata": {
    "collapsed": true
   },
   "outputs": [],
   "source": [
    "# save(string(prepath,\"Plot/ParetoReward.svg\"),a)\n",
    "save(string(path,\"Plot/Pareto/ParetoReward.pdf\"),a)\n",
    "# save(string(prepath,\"Plot/ParetoReward.tex\"),a)"
   ]
  },
  {
   "cell_type": "code",
   "execution_count": null,
   "metadata": {
    "scrolled": true
   },
   "outputs": [],
   "source": [
    "a=Axis(plots_cr, legendPos=\"north east\",width=\"20cm\", height=\"20cm\",ymax=1.1,\n",
    "    xlabel=L\"Shape Factor $\\beta$\",ylabel=\"Failure Rate\")"
   ]
  },
  {
   "cell_type": "code",
   "execution_count": null,
   "metadata": {
    "collapsed": true
   },
   "outputs": [],
   "source": [
    "# save(string(prepath,\"Plot/ParetoCR.svg\"),a)\n",
    "save(string(path,\"Plot/Pareto/ParetoFailure.pdf\"),a)\n",
    "# save(string(prepath,\"Plot/ParetoCR.tex\"),a)"
   ]
  },
  {
   "cell_type": "markdown",
   "metadata": {},
   "source": [
    "## Muti-AxisLength"
   ]
  },
  {
   "cell_type": "code",
   "execution_count": null,
   "metadata": {},
   "outputs": [],
   "source": [
    "plots_r = Array{PGFPlots.Plots.Linear}(0)\n",
    "plots_cr = Array{PGFPlots.Plots.Linear}(0)\n",
    "\n",
    "for i = 1:length(pnames)\n",
    "    policy = pnames[i]\n",
    "    rewards = Array{Float64}(0)\n",
    "    reward_errs = Array{Float64}(0)\n",
    "    collision_rates = Array{Float64}(0)\n",
    "    alphas = 1.0:0.2:3.0\n",
    "    for alpha in alphas\n",
    "        reward=readdlm(string(path,\"AxisLength/\",policy,\"_rewards_d_axis\",alpha,\".txt\"))\n",
    "        collision_rate=readdlm(string(path,\"AxisLength/\",policy,\"_collision_rate_axis\",alpha,\".txt\"))\n",
    "        push!(rewards,mean(reward))\n",
    "        push!(reward_errs,std(reward)/sqrt(length(reward)))\n",
    "        push!(collision_rates,mean(collision_rate))\n",
    "    end\n",
    "    \n",
    "    push!(plots_r,Plots.Linear(alphas, rewards, legendentry=legends[i],style=string(colors[i],\",very thick\"),mark=\"o\",errorBars = ErrorBars(y=reward_errs)))\n",
    "#     push!(plots_r,Plots.Linear(alphas, rewards, legendentry=legends[i],style=string(colors[i],\",very thick\"),mark=\"o\"))\n",
    "    push!(plots_cr,Plots.Linear(alphas, collision_rates, legendentry=legends[i],style=string(colors[i],\",very thick\"),mark=\"o\"))\n",
    "end"
   ]
  },
  {
   "cell_type": "code",
   "execution_count": null,
   "metadata": {},
   "outputs": [],
   "source": [
    "a=Axis(plots_r, legendPos=\"north east\",width=\"20cm\", height=\"20cm\",\n",
    "    xlabel=L\"Axis Length $[m]$\",ylabel=\"Undiscounted Average Reward\")"
   ]
  },
  {
   "cell_type": "code",
   "execution_count": null,
   "metadata": {
    "collapsed": true
   },
   "outputs": [],
   "source": [
    "# save(string(prepath,\"Plot/ParetoReward.svg\"),a)\n",
    "save(string(path,\"Plot/AxisLength/AxisLengthReward.pdf\"),a)\n",
    "# save(string(prepath,\"Plot/ParetoReward.tex\"),a)"
   ]
  },
  {
   "cell_type": "code",
   "execution_count": null,
   "metadata": {},
   "outputs": [],
   "source": [
    "a=Axis(plots_cr, legendPos=\"north east\",width=\"20cm\", height=\"20cm\",ymax=1.1,\n",
    "    xlabel=L\"Axis Length $[m]$\",ylabel=\"Failure Rate\")"
   ]
  },
  {
   "cell_type": "code",
   "execution_count": null,
   "metadata": {
    "collapsed": true
   },
   "outputs": [],
   "source": [
    "# save(string(prepath,\"Plot/ParetoCR.svg\"),a)\n",
    "save(string(path,\"Plot/AxisLength/AxisLengthFailure.pdf\"),a)\n",
    "# save(string(prepath,\"Plot/ParetoCR.tex\"),a)"
   ]
  },
  {
   "cell_type": "markdown",
   "metadata": {},
   "source": [
    "## Multi-Ad"
   ]
  },
  {
   "cell_type": "code",
   "execution_count": null,
   "metadata": {},
   "outputs": [],
   "source": [
    "plots_r = Array{PGFPlots.Plots.Linear}(0)\n",
    "plots_cr = Array{PGFPlots.Plots.Linear}(0)\n",
    "\n",
    "for i = 1:length(pnames)\n",
    "    policy = pnames[i]\n",
    "    rewards = Array{Float64}(0)\n",
    "    reward_errs = Array{Float64}(0)\n",
    "    collision_rates = Array{Float64}(0)\n",
    "    alphas = 0:10:20\n",
    "    for alpha in alphas\n",
    "        reward=readdlm(string(path,\"Ad/Data/\",policy,\"_rewards_d_ad\",alpha,\".txt\"))\n",
    "        collision_rate=readdlm(string(path,\"Ad/Data/\",policy,\"_collision_rate_ad\",alpha,\".txt\"))\n",
    "        push!(rewards,mean(reward))\n",
    "        push!(reward_errs,std(reward)/sqrt(length(reward)))\n",
    "        push!(collision_rates,mean(collision_rate))\n",
    "    end\n",
    "    \n",
    "    push!(plots_r,Plots.Linear(alphas, rewards, legendentry=legends[i],style=string(colors[i],\",very thick\"),mark=\"o\",errorBars = ErrorBars(y=reward_errs)))\n",
    "#     push!(plots_r,Plots.Linear(alphas, rewards, legendentry=legends[i],style=string(colors[i],\",very thick\"),mark=\"o\"))\n",
    "    push!(plots_cr,Plots.Linear(alphas, collision_rates, legendentry=legends[i],style=string(colors[i],\",very thick\"),mark=\"o\"))\n",
    "end"
   ]
  },
  {
   "cell_type": "code",
   "execution_count": null,
   "metadata": {},
   "outputs": [],
   "source": [
    "a=Axis(plots_r, legendPos=\"north east\",width=\"20cm\", height=\"20cm\",\n",
    "    xlabel=\"Advesary Iteration Number\",ylabel=\"Undiscounted Average Reward\")"
   ]
  },
  {
   "cell_type": "code",
   "execution_count": null,
   "metadata": {
    "collapsed": true
   },
   "outputs": [],
   "source": [
    "# save(string(prepath,\"Plot/ParetoReward.svg\"),a)\n",
    "save(string(path,\"Plot/Ad/AdReward.pdf\"),a)\n",
    "# save(string(prepath,\"Plot/ParetoReward.tex\"),a)"
   ]
  },
  {
   "cell_type": "code",
   "execution_count": null,
   "metadata": {},
   "outputs": [],
   "source": [
    "a=Axis(plots_cr, legendPos=\"north east\",width=\"20cm\", height=\"20cm\",ymax=1.1,\n",
    "    xlabel=\"Advesary Iteration Number\",ylabel=\"Failure Rate\")"
   ]
  },
  {
   "cell_type": "code",
   "execution_count": null,
   "metadata": {
    "collapsed": true
   },
   "outputs": [],
   "source": [
    "# save(string(prepath,\"Plot/ParetoCR.svg\"),a)\n",
    "save(string(path,\"Plot/Ad/AdFailure.pdf\"),a)\n",
    "# save(string(prepath,\"Plot/ParetoCR.tex\"),a)"
   ]
  },
  {
   "cell_type": "code",
   "execution_count": null,
   "metadata": {
    "collapsed": true
   },
   "outputs": [],
   "source": []
  }
 ],
 "metadata": {
  "kernelspec": {
   "display_name": "Julia 0.6.0",
   "language": "julia",
   "name": "julia-0.6"
  },
  "language_info": {
   "file_extension": ".jl",
   "mimetype": "application/julia",
   "name": "julia",
   "version": "0.6.0"
  }
 },
 "nbformat": 4,
 "nbformat_minor": 2
}
