{
 "cells": [
  {
   "cell_type": "code",
   "execution_count": null,
   "metadata": {
    "collapsed": true
   },
   "outputs": [],
   "source": [
    "using PGFPlots"
   ]
  },
  {
   "cell_type": "code",
   "execution_count": null,
   "metadata": {},
   "outputs": [],
   "source": [
    "policies = readdir(\"Policy\")\n",
    "# pnames = []\n",
    "# for i = 1:length(policies)\n",
    "#     if policies[i] != \".DS_Store\"\n",
    "#         push!(pnames,policies[i][1:length(policies[i])-4])\n",
    "#     end\n",
    "# end\n",
    "# println(pnames)\n",
    "\n",
    "pnames = [\"b_1e3\",\"b_5e3\",\"fsp_3e2\",\"fsp_sample_4e2\",\"rarl_4e2\"]\n",
    "legends = [\"b 1e3\",\"b 5e3\",\"fsp 3e2\",\"fsp sample 4e2\",\"rarl 4e2\"]"
   ]
  },
  {
   "cell_type": "code",
   "execution_count": null,
   "metadata": {},
   "outputs": [],
   "source": [
    "colors = [\"black\",\"black!70\",\"blue\",\"orange\",\"red\"]\n",
    "# colors = [\"blue\",\"red\"]"
   ]
  },
  {
   "cell_type": "code",
   "execution_count": null,
   "metadata": {
    "collapsed": true
   },
   "outputs": [],
   "source": [
    "# policies = [\"Baseline/Rewards/b_15e3_3\",\"Retrain/Rewards/rarl\",\"Retrain/Rewards/rarlP10\",\n",
    "#             \"FSP/Rewards/nBnoTR\",\"FSP/Rewards/nBnoTRP10\"]"
   ]
  },
  {
   "cell_type": "markdown",
   "metadata": {},
   "source": [
    "## Multi-Pareto "
   ]
  },
  {
   "cell_type": "code",
   "execution_count": null,
   "metadata": {
    "collapsed": true
   },
   "outputs": [],
   "source": [
    "plots_r = Array{PGFPlots.Plots.Linear}(0)\n",
    "plots_cr = Array{PGFPlots.Plots.Linear}(0)\n",
    "\n",
    "for i = 1:length(pnames)\n",
    "    policy = pnames[i]\n",
    "    rewards = Array{Float64}(0)\n",
    "    reward_errs = Array{Float64}(0)\n",
    "    collision_rates = Array{Float64}(0)\n",
    "    for alpha in 1:10\n",
    "        reward=readdlm(string(\"Data/Rewards_CR/\",policy,\"_rewards_d_pareto\",alpha,\".txt\"))\n",
    "        collision_rate=readdlm(string(\"Data/Rewards_CR/\",policy,\"_collision_rate_pareto\",alpha,\".txt\"))\n",
    "        push!(rewards,mean(reward))\n",
    "        push!(reward_errs,std(reward)/sqrt(length(reward)))\n",
    "        push!(collision_rates,mean(collision_rate))\n",
    "    end\n",
    "    \n",
    "    push!(plots_r,Plots.Linear(1:10, rewards, legendentry=legends[i],style=string(colors[i],\",very thick\"),mark=\"o\",errorBars = ErrorBars(y=reward_errs)))\n",
    "#     push!(plots_r,Plots.Linear(1:10, rewards, legendentry=legends[i],style=string(colors[i],\",very thick\"),mark=\"o\"))\n",
    "    push!(plots_cr,Plots.Linear(1:10, collision_rates, legendentry=legends[i],style=string(colors[i],\",very thick\"),mark=\"o\"))\n",
    "end"
   ]
  },
  {
   "cell_type": "code",
   "execution_count": null,
   "metadata": {},
   "outputs": [],
   "source": [
    "a=Axis(plots_r, legendPos=\"north east\",width=\"20cm\", height=\"20cm\",\n",
    "    xlabel=L\"Shape Parameter $\\beta$\",ylabel=\"Undiscounted Average Reward\")"
   ]
  },
  {
   "cell_type": "code",
   "execution_count": null,
   "metadata": {
    "collapsed": true
   },
   "outputs": [],
   "source": [
    "# save(string(prepath,\"Plot/ParetoReward.svg\"),a)\n",
    "save(\"Data/Plot/ParetoReward_4e2.pdf\",a)\n",
    "# save(string(prepath,\"Plot/ParetoReward.tex\"),a)"
   ]
  },
  {
   "cell_type": "code",
   "execution_count": null,
   "metadata": {
    "scrolled": true
   },
   "outputs": [],
   "source": [
    "a=Axis(plots_cr, legendPos=\"north east\",width=\"20cm\", height=\"20cm\",ymax=1.1,\n",
    "    xlabel=L\"Shape Factor $\\beta$\",ylabel=\"Failure Rate\")"
   ]
  },
  {
   "cell_type": "code",
   "execution_count": null,
   "metadata": {
    "collapsed": true
   },
   "outputs": [],
   "source": [
    "# save(string(prepath,\"Plot/ParetoCR.svg\"),a)\n",
    "save(\"Data/Plot/ParetoCR_4e2.pdf\",a)\n",
    "# save(string(prepath,\"Plot/ParetoCR.tex\"),a)"
   ]
  },
  {
   "cell_type": "markdown",
   "metadata": {
    "collapsed": true
   },
   "source": [
    "## Trajectory"
   ]
  },
  {
   "cell_type": "code",
   "execution_count": null,
   "metadata": {
    "collapsed": true
   },
   "outputs": [],
   "source": [
    "plots = Array{PGFPlots.Plots.Linear}(0)\n",
    "\n",
    "for i = 1:5\n",
    "    xs=readdlm(string(\"Data/Trajectory/\",\"MPCTrajectories/\",\"l\",i,\"/xs.txt\"))\n",
    "    ys=readdlm(string(\"Data/Trajectory/\",\"MPCTrajectories/\",\"l\",i,\"/ys.txt\"))\n",
    "    if i == 1\n",
    "        push!(plots,Plots.Linear(xs[:], ys[:],style=string(\"blue\"),mark=\"none\",legendentry=\"MPC\"))\n",
    "    else\n",
    "        push!(plots,Plots.Linear(xs[:], ys[:],style=string(\"blue\"),mark=\"none\"))\n",
    "    end\n",
    "        \n",
    "    xs=readdlm(string(\"Data/Trajectory/\",\"RLTrajectories/\",\"l\",i,\"/xs.txt\"))\n",
    "    ys=readdlm(string(\"Data/Trajectory/\",\"RLTrajectories/\",\"l\",i,\"/ys.txt\"))\n",
    "    if i == 1\n",
    "        push!(plots,Plots.Linear(xs[:], ys[:],style=string(\"red\"),mark=\"none\",legendentry=\"RL\"))\n",
    "    else\n",
    "        push!(plots,Plots.Linear(xs[:], ys[:],style=string(\"red\"),mark=\"none\"))\n",
    "    end\n",
    "end\n",
    "\n",
    "push!(plots,Plots.Linear(0:80,3.0*ones(81),style=string(\"black\",\",very thick\"),mark=\"none\"))\n",
    "push!(plots,Plots.Linear(0:80,6.0*ones(81),style=string(\"black\",\",very thick\"),mark=\"none\"));"
   ]
  },
  {
   "cell_type": "code",
   "execution_count": null,
   "metadata": {
    "collapsed": true
   },
   "outputs": [],
   "source": [
    "a=Axis(plots, legendPos=\"north west\",width=\"40cm\", height=\"4cm\",\n",
    "    xlabel=\"x[m]\",ylabel=\"y[m]\",xmin=0, xmax=80)"
   ]
  },
  {
   "cell_type": "code",
   "execution_count": null,
   "metadata": {
    "collapsed": true
   },
   "outputs": [],
   "source": [
    "# save(string(prepath,\"Plot/ParetoReward.svg\"),a)\n",
    "save(\"Plot/Trajectory/Trajectory_Compare.pdf\",a)\n",
    "# save(string(prepath,\"Plot/ParetoReward.tex\"),a)"
   ]
  },
  {
   "cell_type": "code",
   "execution_count": null,
   "metadata": {
    "collapsed": true
   },
   "outputs": [],
   "source": [
    "plots_v = Array{PGFPlots.Plots.Linear}(0)\n",
    "plots_theta = Array{PGFPlots.Plots.Linear}(0)\n",
    "plots_acc = Array{PGFPlots.Plots.Linear}(0)\n",
    "plots_steer = Array{PGFPlots.Plots.Linear}(0)\n",
    "\n",
    "for i = 1:5\n",
    "    vs=readdlm(string(\"Data/Trajectory/\",\"MPCTrajectories/\",\"l\",i,\"/speeds.txt\"))\n",
    "    thetas=readdlm(string(\"Data/Trajectory/\",\"MPCTrajectories/\",\"l\",i,\"/thetas.txt\"))\n",
    "    accs=readdlm(string(\"Data/Trajectory/\",\"MPCTrajectories/\",\"l\",i,\"/accs.txt\"))\n",
    "    steers=readdlm(string(\"Data/Trajectory/\",\"MPCTrajectories/\",\"l\",i,\"/steers.txt\"))\n",
    "    index=find(vs)[1:end-5*20]\n",
    "    time=(1:length(index))/20.0\n",
    "    if i == 1\n",
    "        push!(plots_v,Plots.Linear(time, vs[index],style=string(\"blue\"),mark=\"none\",legendentry=\"MPC\"))\n",
    "        push!(plots_theta,Plots.Linear(time, thetas[index],style=string(\"blue\"),mark=\"none\",legendentry=\"MPC\"))\n",
    "        push!(plots_acc,Plots.Linear(time, accs[index],style=string(\"blue\"),mark=\"none\",legendentry=\"MPC\"))\n",
    "        push!(plots_steer,Plots.Linear(time, steers[index],style=string(\"blue\"),mark=\"none\",legendentry=\"MPC\"))\n",
    "    else\n",
    "        push!(plots_v,Plots.Linear(time, vs[index],style=string(\"blue\"),mark=\"none\"))\n",
    "        push!(plots_theta,Plots.Linear(time, thetas[index],style=string(\"blue\"),mark=\"none\"))\n",
    "        push!(plots_acc,Plots.Linear(time, accs[index],style=string(\"blue\"),mark=\"none\"))\n",
    "        push!(plots_steer,Plots.Linear(time, steers[index],style=string(\"blue\"),mark=\"none\"))\n",
    "    end\n",
    "    \n",
    "    vs=readdlm(string(\"Data/Trajectory/\",\"RLTrajectories/\",\"l\",i,\"/speeds.txt\"))\n",
    "    thetas=readdlm(string(\"Data/Trajectory/\",\"RLTrajectories/\",\"l\",i,\"/thetas.txt\"))\n",
    "    accs=readdlm(string(\"Data/Trajectory/\",\"RLTrajectories/\",\"l\",i,\"/accs.txt\"))\n",
    "    steers=readdlm(string(\"Data/Trajectory/\",\"RLTrajectories/\",\"l\",i,\"/steers.txt\"))\n",
    "    index=find(vs)[1:end-5*20]\n",
    "    time=(1:length(index))/20.0\n",
    "    if i == 1\n",
    "        push!(plots_v,Plots.Linear(time, vs[index],style=string(\"red\"),mark=\"none\",legendentry=\"RL\"))\n",
    "        push!(plots_theta,Plots.Linear(time, thetas[index],style=string(\"red\"),mark=\"none\",legendentry=\"RL\"))\n",
    "        push!(plots_acc,Plots.Linear(time, accs[index],style=string(\"red\"),mark=\"none\",legendentry=\"RL\"))\n",
    "        push!(plots_steer,Plots.Linear(time, steers[index],style=string(\"red\"),mark=\"none\",legendentry=\"RL\"))\n",
    "    else\n",
    "        push!(plots_v,Plots.Linear(time, vs[index],style=string(\"red\"),mark=\"none\"))\n",
    "        push!(plots_theta,Plots.Linear(time, thetas[index],style=string(\"red\"),mark=\"none\"))\n",
    "        push!(plots_acc,Plots.Linear(time, accs[index],style=string(\"red\"),mark=\"none\"))\n",
    "        push!(plots_steer,Plots.Linear(time, steers[index],style=string(\"red\"),mark=\"none\"))\n",
    "    end\n",
    "end"
   ]
  },
  {
   "cell_type": "code",
   "execution_count": null,
   "metadata": {
    "collapsed": true
   },
   "outputs": [],
   "source": [
    "a=Axis(plots_v, legendPos=\"north west\",width=\"10cm\", height=\"10cm\",\n",
    "    xlabel=\"time[s]\",ylabel=\"y[m]\")"
   ]
  },
  {
   "cell_type": "code",
   "execution_count": null,
   "metadata": {
    "collapsed": true
   },
   "outputs": [],
   "source": [
    "save(\"Plot/Trajectory/Speed_Compare.pdf\",a)"
   ]
  },
  {
   "cell_type": "code",
   "execution_count": null,
   "metadata": {
    "collapsed": true
   },
   "outputs": [],
   "source": [
    "a=Axis(plots_theta, legendPos=\"north west\",width=\"10cm\", height=\"10cm\",\n",
    "    xlabel=\"time[s]\",ylabel=\"y[m]\")"
   ]
  },
  {
   "cell_type": "code",
   "execution_count": null,
   "metadata": {
    "collapsed": true
   },
   "outputs": [],
   "source": [
    "save(\"Plot/Trajectory/Theta_Compare.pdf\",a)"
   ]
  },
  {
   "cell_type": "code",
   "execution_count": null,
   "metadata": {
    "collapsed": true
   },
   "outputs": [],
   "source": [
    "a=Axis(plots_acc, legendPos=\"north east\",width=\"10cm\", height=\"10cm\",\n",
    "    xlabel=\"time[s]\",ylabel=\"y[m]\")"
   ]
  },
  {
   "cell_type": "code",
   "execution_count": null,
   "metadata": {
    "collapsed": true
   },
   "outputs": [],
   "source": [
    "save(\"Plot/Trajectory/Acc_Compare.pdf\",a)"
   ]
  },
  {
   "cell_type": "code",
   "execution_count": null,
   "metadata": {
    "collapsed": true
   },
   "outputs": [],
   "source": [
    "a=Axis(plots_steer, legendPos=\"north east\",width=\"10cm\", height=\"10cm\",\n",
    "    xlabel=\"time[s]\",ylabel=\"y[m]\")"
   ]
  },
  {
   "cell_type": "code",
   "execution_count": null,
   "metadata": {
    "collapsed": true
   },
   "outputs": [],
   "source": [
    "save(\"Plot/Trajectory/Steer_Compare.pdf\",a)"
   ]
  },
  {
   "cell_type": "code",
   "execution_count": null,
   "metadata": {
    "collapsed": true
   },
   "outputs": [],
   "source": []
  }
 ],
 "metadata": {
  "kernelspec": {
   "display_name": "Julia 0.6.0",
   "language": "julia",
   "name": "julia-0.6"
  },
  "language_info": {
   "file_extension": ".jl",
   "mimetype": "application/julia",
   "name": "julia",
   "version": "0.6.0"
  }
 },
 "nbformat": 4,
 "nbformat_minor": 2
}
