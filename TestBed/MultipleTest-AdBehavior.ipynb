{
 "cells": [
  {
   "cell_type": "code",
   "execution_count": 1,
   "metadata": {},
   "outputs": [
    {
     "data": {
      "text/html": [
       "<div id=\"interact-js-shim\">\n",
       "    <script charset=\"utf-8\">\n",
       "(function (IPython, $, _, MathJax) {\n",
       "    $.event.special.destroyed = {\n",
       "\tremove: function(o) {\n",
       "\t    if (o.handler) {\n",
       "\t\to.handler.apply(this, arguments)\n",
       "\t    }\n",
       "\t}\n",
       "    }\n",
       "\n",
       "    var OutputArea = IPython.version >= \"4.0.0\" ? require(\"notebook/js/outputarea\").OutputArea : IPython.OutputArea;\n",
       "\n",
       "    var redrawValue = function (container, type, val) {\n",
       "\tvar selector = $(\"<div/>\");\n",
       "\tvar oa = new OutputArea(_.extend(selector, {\n",
       "\t    selector: selector,\n",
       "\t    prompt_area: true,\n",
       "\t    events: IPython.events,\n",
       "\t    keyboard_manager: IPython.keyboard_manager\n",
       "\t})); // Hack to work with IPython 2.1.0\n",
       "\n",
       "\tswitch (type) {\n",
       "\tcase \"image/png\":\n",
       "            var _src = 'data:' + type + ';base64,' + val;\n",
       "\t    $(container).find(\"img\").attr('src', _src);\n",
       "\t    break;\n",
       "\tcase \"text/latex\":\n",
       "\t\tif (MathJax){\n",
       "\t\t\tvar math = MathJax.Hub.getAllJax(container)[0];\n",
       "\t\t\tMathJax.Hub.Queue([\"Text\", math, val.replace(/^\\${1,2}|\\${1,2}$/g, '')]);\n",
       "\t\t\tbreak;\n",
       "\t\t}\n",
       "\tdefault:\n",
       "\t    var toinsert = OutputArea.append_map[type].apply(\n",
       "\t\toa, [val, {}, selector]\n",
       "\t    );\n",
       "\t    $(container).empty().append(toinsert.contents());\n",
       "\t    selector.remove();\n",
       "\t}\n",
       "    }\n",
       "\n",
       "\n",
       "    $(document).ready(function() {\n",
       "\tfunction initComm(evt, data) {\n",
       "\t    var comm_manager = data.kernel.comm_manager;\n",
       "        //_.extend(comm_manager.targets, require(\"widgets/js/widget\"))\n",
       "\t    comm_manager.register_target(\"Signal\", function (comm) {\n",
       "            comm.on_msg(function (msg) {\n",
       "                var val = msg.content.data.value;\n",
       "                $(\".signal-\" + comm.comm_id).each(function() {\n",
       "                var type = $(this).data(\"type\");\n",
       "                if (typeof(val[type]) !== \"undefined\" && val[type] !== null) {\n",
       "                    redrawValue(this, type, val[type], type);\n",
       "                }\n",
       "                });\n",
       "                delete val;\n",
       "                delete msg.content.data.value;\n",
       "            });\n",
       "\t    });\n",
       "\n",
       "\t    // coordingate with Comm and redraw Signals\n",
       "\t    // XXX: Test using Reactive here to improve performance\n",
       "\t    $([IPython.events]).on(\n",
       "\t\t'output_appended.OutputArea', function (event, type, value, md, toinsert) {\n",
       "\t\t    if (md && md.reactive) {\n",
       "                // console.log(md.comm_id);\n",
       "                toinsert.addClass(\"signal-\" + md.comm_id);\n",
       "                toinsert.data(\"type\", type);\n",
       "                // Signal back indicating the mimetype required\n",
       "                var comm_manager = IPython.notebook.kernel.comm_manager;\n",
       "                var comm = comm_manager.comms[md.comm_id];\n",
       "                comm.then(function (c) {\n",
       "                    c.send({action: \"subscribe_mime\",\n",
       "                       mime: type});\n",
       "                    toinsert.bind(\"destroyed\", function() {\n",
       "                        c.send({action: \"unsubscribe_mime\",\n",
       "                               mime: type});\n",
       "                    });\n",
       "                })\n",
       "\t\t    }\n",
       "\t    });\n",
       "\t}\n",
       "\n",
       "\ttry {\n",
       "\t    // try to initialize right away. otherwise, wait on the status_started event.\n",
       "\t    initComm(undefined, IPython.notebook);\n",
       "\t} catch (e) {\n",
       "\t    $([IPython.events]).on('kernel_created.Kernel kernel_created.Session', initComm);\n",
       "\t}\n",
       "    });\n",
       "})(IPython, jQuery, _, MathJax);\n",
       "</script>\n",
       "    <script>\n",
       "        window.interactLoadedFlag = true\n",
       "       $(\"#interact-js-shim\").bind(\"destroyed\", function () {\n",
       "           if (window.interactLoadedFlag) {\n",
       "               console.warn(\"JavaScript required by Interact will be removed if you remove this cell or run using Interact more than once.\")\n",
       "           }\n",
       "       })\n",
       "       $([IPython.events]).on(\"kernel_starting.Kernel kernel_restarting.Kernel\", function () { window.interactLoadedFlag = false })\n",
       "   </script>\n",
       "</div>"
      ]
     },
     "metadata": {},
     "output_type": "display_data"
    },
    {
     "name": "stderr",
     "output_type": "stream",
     "text": [
      "WARNING: Method definition copy!(Array{Float64, 1}, AutomotiveDrivingModels.LatLonAccel) in module AutomotiveDrivingModels at /Users/xiaobaima/.julia/v0.6/AutomotiveDrivingModels/src/2d/actions/lat_lon_accel.jl:13 overwritten in module AutoUrban at /Users/xiaobaima/.julia/v0.6/AutoUrban/src/simulation/actions.jl:10.\n",
      "WARNING: Method definition render(Cairo.CairoContext, Union{Records.Frame{Records.Entity{AutomotiveDrivingModels.VehicleState, AutomotiveDrivingModels.VehicleDef, Int64}}, Records.Frame{Records.Entity{AutomotiveDrivingModels.VehicleState, AutomotiveDrivingModels.BicycleModel, Int64}}}, AutomotiveDrivingModels.Roadway, Base.Dict{Int64, AutomotiveDrivingModels.DriverModel{DriveAction} where DriveAction}) in module AutoUrban at /Users/xiaobaima/.julia/v0.6/AutoUrban/src/render/render_drivers.jl:50 overwritten in module Main at /Users/xiaobaima/Dropbox/SISL/RARL/JustEgoGrey/TestBed/../CommonFiles/render.jl:54.\n",
      "WARNING: Method definition #render(Array{Any, 1}, typeof(AutoViz.render), Cairo.CairoContext, Union{Records.Frame{Records.Entity{AutomotiveDrivingModels.VehicleState, AutomotiveDrivingModels.VehicleDef, Int64}}, Records.Frame{Records.Entity{AutomotiveDrivingModels.VehicleState, AutomotiveDrivingModels.BicycleModel, Int64}}}, AutomotiveDrivingModels.Roadway, Base.Dict{Int64, AutomotiveDrivingModels.DriverModel{DriveAction} where DriveAction}) in module AutoUrban overwritten in module Main.\n",
      "WARNING: Method definition render(Union{Records.Frame{Records.Entity{AutomotiveDrivingModels.VehicleState, AutomotiveDrivingModels.VehicleDef, Int64}}, Records.Frame{Records.Entity{AutomotiveDrivingModels.VehicleState, AutomotiveDrivingModels.BicycleModel, Int64}}}, AutomotiveDrivingModels.Roadway, Base.Dict{Int64, AutomotiveDrivingModels.DriverModel{DriveAction} where DriveAction}) in module AutoUrban at /Users/xiaobaima/.julia/v0.6/AutoUrban/src/render/render_drivers.jl:93 overwritten in module Main at /Users/xiaobaima/Dropbox/SISL/RARL/JustEgoGrey/TestBed/../CommonFiles/render.jl:87.\n",
      "WARNING: Method definition #render(Array{Any, 1}, typeof(AutoViz.render), Union{Records.Frame{Records.Entity{AutomotiveDrivingModels.VehicleState, AutomotiveDrivingModels.VehicleDef, Int64}}, Records.Frame{Records.Entity{AutomotiveDrivingModels.VehicleState, AutomotiveDrivingModels.BicycleModel, Int64}}}, AutomotiveDrivingModels.Roadway, Base.Dict{Int64, AutomotiveDrivingModels.DriverModel{DriveAction} where DriveAction}) in module AutoUrban overwritten in module Main.\n"
     ]
    }
   ],
   "source": [
    "include(\"preload.jl\")\n",
    "using PyCall\n",
    "using Distributions\n",
    "unshift!(PyVector(pyimport(\"sys\")[\"path\"]), \"\")\n",
    "@pyimport python2juliaReuse as p2j"
   ]
  },
  {
   "cell_type": "code",
   "execution_count": 2,
   "metadata": {
    "collapsed": true
   },
   "outputs": [],
   "source": [
    "# policies = [\"Baseline/Rewards/b_15e3_3\",\"Retrain/Rewards/rarl\",\"Retrain/Rewards/rarlP10\",\n",
    "#             \"FSP/Rewards/nBnoTR\",\"FSP/Rewards/nBnoTRP10\"]"
   ]
  },
  {
   "cell_type": "code",
   "execution_count": 3,
   "metadata": {},
   "outputs": [
    {
     "name": "stderr",
     "output_type": "stream",
     "text": [
      "2018-08-30 12:12:53.036345: W tensorflow/core/platform/cpu_feature_guard.cc:45] The TensorFlow library wasn't compiled to use SSE4.2 instructions, but these are available on your machine and could speed up CPU computations.\n",
      "2018-08-30 12:12:53.036360: W tensorflow/core/platform/cpu_feature_guard.cc:45] The TensorFlow library wasn't compiled to use AVX instructions, but these are available on your machine and could speed up CPU computations.\n",
      "2018-08-30 12:12:53.036364: W tensorflow/core/platform/cpu_feature_guard.cc:45] The TensorFlow library wasn't compiled to use AVX2 instructions, but these are available on your machine and could speed up CPU computations.\n",
      "2018-08-30 12:12:53.036367: W tensorflow/core/platform/cpu_feature_guard.cc:45] The TensorFlow library wasn't compiled to use FMA instructions, but these are available on your machine and could speed up CPU computations.\n",
      "WARNING: redefining constant ACONST\n",
      "WARNING: redefining constant BCONST\n",
      "WARNING: redefining constant CCONST\n"
     ]
    }
   ],
   "source": [
    "pc = p2j.PolicyContainer()\n",
    "path = \"Data/Normal/\"\n",
    "# policies = readdir(string(path,\"Policy\"))\n",
    "# pnames = []\n",
    "# for i = 1:length(policies)\n",
    "#     if policies[i] != \".DS_Store\"\n",
    "#         push!(pnames,policies[i][1:length(policies[i])-4])\n",
    "#     end\n",
    "# end\n",
    "# println(pnames)\n",
    "pnames = [\"fsp_1e3\"]\n",
    "include(\"preload.jl\")\n"
   ]
  },
  {
   "cell_type": "code",
   "execution_count": 4,
   "metadata": {},
   "outputs": [
    {
     "data": {
      "text/plain": [
       "Counter"
      ]
     },
     "execution_count": 4,
     "metadata": {},
     "output_type": "execute_result"
    }
   ],
   "source": [
    "mutable struct Counter\n",
    "    i::Int\n",
    "    I::Int\n",
    "    states::Array{Array{Float64}}\n",
    "    daccs::Array{Float64}\n",
    "    dsteers::Array{Float64}\n",
    "    daccs_out::Array{Float64}\n",
    "    dsteers_out::Array{Float64}\n",
    "    done::Bool\n",
    "end\n",
    "function Counter(N::Int)\n",
    "    return Counter(0,N,[],[],[],[],[],false)\n",
    "end"
   ]
  },
  {
   "cell_type": "code",
   "execution_count": 5,
   "metadata": {},
   "outputs": [
    {
     "data": {
      "text/plain": [
       "handle_action! (generic function with 1 method)"
      ]
     },
     "execution_count": 5,
     "metadata": {},
     "output_type": "execute_result"
    }
   ],
   "source": [
    "function handle_action!(pc,scene,models,roadway,counter,ad_num)\n",
    "    state = get_observation(scene,models,roadway)\n",
    "    append!(counter.states,[state])\n",
    "    \n",
    "    action1_arr = pc[:getAction](state,1)\n",
    "    action1_arr = tanh.(action1_arr)\n",
    "\n",
    "    dacc = 0.0\n",
    "    dsteer = 0.0\n",
    "    if ad_num == 1\n",
    "        action2_arr = pc[:getAction](state,2)\n",
    "    elseif ad_num == 2\n",
    "        action2_arr = pc[:getAction_regressor](state,2)\n",
    "    end\n",
    "    \n",
    "    append!(counter.daccs_out,action2_arr[1])\n",
    "    append!(counter.dsteers_out,action2_arr[2])\n",
    "    \n",
    "    action2_arr = tanh.(action2_arr)\n",
    "    dacc = action2_arr[1]\n",
    "    dsteer = action2_arr[2]\n",
    "    \n",
    "    action = Egoaction(action1_arr[1],action1_arr[2],dacc,dsteer)\n",
    "    \n",
    "    append!(counter.daccs,dacc)\n",
    "    append!(counter.dsteers,dsteer)\n",
    "    \n",
    "    bump = simulate_action!(action,scene,models,roadway)\n",
    "    reward = reward_fn(action,scene,models,roadway)\n",
    "    \n",
    "    if bump\n",
    "        pc[:resetPolicy](1)\n",
    "        rand_ego!(scene,models,roadway)\n",
    "        \n",
    "        counter.i += 1\n",
    "        if counter.i > counter.I\n",
    "            counter.done = true\n",
    "        end\n",
    "    end\n",
    "end"
   ]
  },
  {
   "cell_type": "code",
   "execution_count": 7,
   "metadata": {},
   "outputs": [
    {
     "name": "stdout",
     "output_type": "stream",
     "text": [
      "fsp_1e3\n"
     ]
    }
   ],
   "source": [
    "log_path = string(path,\"Disturbance/\")\n",
    "scene, models, roadway = initialize_env()\n",
    "for pname in pnames\n",
    "    println(pname)\n",
    "    policy_path = string(path,\"Policy/\",pname,\".pkl\")\n",
    "    pc[:reset_policy](policy_path=policy_path)\n",
    "    N = 9\n",
    "\n",
    "    counter = Counter(N)\n",
    "    rand_ego!(scene,models,roadway)\n",
    "    pc[:resetPolicy](1)\n",
    "    while !counter.done\n",
    "        handle_action!(pc,scene,models,roadway,counter,1)\n",
    "    end\n",
    "    writedlm(string(log_path,pname,\"_states\",\".txt\"),counter.states)\n",
    "    writedlm(string(log_path,pname,\"_daccs\",\".txt\"),counter.daccs)\n",
    "    writedlm(string(log_path,pname,\"_dsteers\",\".txt\"),counter.dsteers)\n",
    "    writedlm(string(log_path,pname,\"_daccs_out\",\".txt\"),counter.daccs_out)\n",
    "    writedlm(string(log_path,pname,\"_dsteers_out\",\".txt\"),counter.dsteers_out)\n",
    "end"
   ]
  },
  {
   "cell_type": "code",
   "execution_count": null,
   "metadata": {
    "collapsed": true
   },
   "outputs": [],
   "source": []
  }
 ],
 "metadata": {
  "kernelspec": {
   "display_name": "Julia 0.6.0",
   "language": "julia",
   "name": "julia-0.6"
  },
  "language_info": {
   "file_extension": ".jl",
   "mimetype": "application/julia",
   "name": "julia",
   "version": "0.6.0"
  },
  "widgets": {
   "state": {},
   "version": "1.1.2"
  }
 },
 "nbformat": 4,
 "nbformat_minor": 2
}
