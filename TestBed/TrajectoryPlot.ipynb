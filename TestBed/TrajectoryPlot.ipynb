{
 "cells": [
  {
   "cell_type": "code",
   "execution_count": 1,
   "metadata": {
    "collapsed": true
   },
   "outputs": [],
   "source": [
    "using PGFPlots"
   ]
  },
  {
   "cell_type": "code",
   "execution_count": 52,
   "metadata": {},
   "outputs": [
    {
     "name": "stdout",
     "output_type": "stream",
     "text": [
      "Data/Trajectory/Aug29/Normal/fsp2e3\n",
      "Data/Trajectory/Aug29/Normal/fspsample3e3\n",
      "Data/Trajectory/Aug29/Normal/rarl3e3\n",
      "Data/Trajectory/Aug29/ThetaReward/b9e3\n",
      "Data/Trajectory/Aug29/ThetaReward/fsp1e3\n",
      "Data/Trajectory/Aug29/ThetaReward/fspsample1e3\n",
      "Data/Trajectory/Aug29/ThetaReward/rarl1e3\n"
     ]
    }
   ],
   "source": [
    "path = \"Data/Trajectory/Aug29\"\n",
    "for i in readdir(path)\n",
    "    if i==\"MPC\"\n",
    "       plot_trajectory(string(path,\"/\",i)) \n",
    "    else\n",
    "        for j in readdir(string(path,\"/\",i))\n",
    "            plot_obs(string(path,\"/\",i,\"/\",j))\n",
    "        end\n",
    "    end\n",
    "end\n"
   ]
  },
  {
   "cell_type": "markdown",
   "metadata": {
    "collapsed": true
   },
   "source": [
    "## Trajectory"
   ]
  },
  {
   "cell_type": "code",
   "execution_count": 50,
   "metadata": {},
   "outputs": [
    {
     "data": {
      "text/plain": [
       "plot_trajectory (generic function with 1 method)"
      ]
     },
     "execution_count": 50,
     "metadata": {},
     "output_type": "execute_result"
    }
   ],
   "source": [
    "function plot_trajectory(path)\n",
    "    println(path)\n",
    "    plots = Array{PGFPlots.Plots.Linear}(0)\n",
    "    for i = readdir(path)\n",
    "        if !in('.',i)\n",
    "            xs=readdlm(string(path,\"/\",i,\"/xs.txt\"))\n",
    "            ys=readdlm(string(path,\"/\",i,\"/ys.txt\"))\n",
    "            push!(plots,PGFPlots.Plots.Linear(xs[:], ys[:],mark=\"none\",legendentry=i))\n",
    "        end\n",
    "    end\n",
    "    push!(plots,PGFPlots.Plots.Linear(0:80,0.0*ones(81),style=string(\"black\",\",very thick\"),mark=\"none\"))\n",
    "    push!(plots,PGFPlots.Plots.Linear(0:80,3.0*ones(81),style=string(\"black\",\",very thick\"),mark=\"none\"))\n",
    "    a=Axis(plots, legendPos=\"north west\",width=\"40cm\", height=\"4cm\",\n",
    "    xlabel=\"x[m]\",ylabel=\"y[m]\",xmin=0, xmax=80)\n",
    "    save(string(path,\"/trajectory.pdf\"),a)\n",
    "end"
   ]
  },
  {
   "cell_type": "code",
   "execution_count": 51,
   "metadata": {},
   "outputs": [
    {
     "data": {
      "text/plain": [
       "plot_obs (generic function with 1 method)"
      ]
     },
     "execution_count": 51,
     "metadata": {},
     "output_type": "execute_result"
    }
   ],
   "source": [
    "function plot_obs(path)\n",
    "    println(path)\n",
    "    entries=[\"y\",\"v\",\"theta\",\"k\"]\n",
    "    Plots = Array{Array{PGFPlots.Plots.Linear}}(0)\n",
    "    plot_num = 0\n",
    "    for (i,trial) in enumerate(readdir(path))\n",
    "        if !in('.',trial)\n",
    "            plot_num += 1\n",
    "            xs=readdlm(string(path,\"/\",trial,\"/xs.txt\"))\n",
    "            obs=readdlm(string(path,\"/\",trial,\"/obs.txt\"))\n",
    "            for j=1:length(entries)\n",
    "                if plot_num == 1\n",
    "                    push!(Plots,Array{PGFPlots.Plots.Linear}(0))\n",
    "                end\n",
    "                legend = replace(trial, \"_\" => \" \")\n",
    "                push!(Plots[j],PGFPlots.Plots.Linear(xs[:], obs[:,j],mark=\"none\",legendentry=string(legend)))\n",
    "            end\n",
    "        end\n",
    "    end\n",
    "    for i=1:length(entries)\n",
    "        if entries[i] == \"y\"\n",
    "            push!(Plots[i],PGFPlots.Plots.Linear(0:80,0.0*ones(81),style=string(\"black\",\",very thick\"),mark=\"none\"))\n",
    "            push!(Plots[i],PGFPlots.Plots.Linear(0:80,3.0*ones(81),style=string(\"black\",\",very thick\"),mark=\"none\"))\n",
    "        end\n",
    "        a=Axis(Plots[i], legendPos=\"north west\",width=\"40cm\", height=\"10cm\",\n",
    "        xlabel=\"x[m]\",ylabel=entries[i],xmin=0, xmax=80)\n",
    "        save(string(path,\"/\",entries[i],\".pdf\"),a)\n",
    "    end\n",
    "end"
   ]
  },
  {
   "cell_type": "code",
   "execution_count": null,
   "metadata": {
    "collapsed": true
   },
   "outputs": [],
   "source": [
    "plots_v = Array{PGFPlots.Plots.Linear}(0)\n",
    "plots_theta = Array{PGFPlots.Plots.Linear}(0)\n",
    "plots_acc = Array{PGFPlots.Plots.Linear}(0)\n",
    "plots_steer = Array{PGFPlots.Plots.Linear}(0)\n",
    "\n",
    "for i = 1:5\n",
    "    vs=readdlm(string(\"Data/Trajectory/\",\"MPCTrajectories/\",\"l\",i,\"/speeds.txt\"))\n",
    "    thetas=readdlm(string(\"Data/Trajectory/\",\"MPCTrajectories/\",\"l\",i,\"/thetas.txt\"))\n",
    "    accs=readdlm(string(\"Data/Trajectory/\",\"MPCTrajectories/\",\"l\",i,\"/accs.txt\"))\n",
    "    steers=readdlm(string(\"Data/Trajectory/\",\"MPCTrajectories/\",\"l\",i,\"/steers.txt\"))\n",
    "    index=find(vs)[1:end-5*20]\n",
    "    time=(1:length(index))/20.0\n",
    "    if i == 1\n",
    "        push!(plots_v,Plots.Linear(time, vs[index],style=string(\"blue\"),mark=\"none\",legendentry=\"MPC\"))\n",
    "        push!(plots_theta,Plots.Linear(time, thetas[index],style=string(\"blue\"),mark=\"none\",legendentry=\"MPC\"))\n",
    "        push!(plots_acc,Plots.Linear(time, accs[index],style=string(\"blue\"),mark=\"none\",legendentry=\"MPC\"))\n",
    "        push!(plots_steer,Plots.Linear(time, steers[index],style=string(\"blue\"),mark=\"none\",legendentry=\"MPC\"))\n",
    "    else\n",
    "        push!(plots_v,Plots.Linear(time, vs[index],style=string(\"blue\"),mark=\"none\"))\n",
    "        push!(plots_theta,Plots.Linear(time, thetas[index],style=string(\"blue\"),mark=\"none\"))\n",
    "        push!(plots_acc,Plots.Linear(time, accs[index],style=string(\"blue\"),mark=\"none\"))\n",
    "        push!(plots_steer,Plots.Linear(time, steers[index],style=string(\"blue\"),mark=\"none\"))\n",
    "    end\n",
    "    \n",
    "    vs=readdlm(string(\"Data/Trajectory/\",\"RLTrajectories/\",\"l\",i,\"/speeds.txt\"))\n",
    "    thetas=readdlm(string(\"Data/Trajectory/\",\"RLTrajectories/\",\"l\",i,\"/thetas.txt\"))\n",
    "    accs=readdlm(string(\"Data/Trajectory/\",\"RLTrajectories/\",\"l\",i,\"/accs.txt\"))\n",
    "    steers=readdlm(string(\"Data/Trajectory/\",\"RLTrajectories/\",\"l\",i,\"/steers.txt\"))\n",
    "    index=find(vs)[1:end-5*20]\n",
    "    time=(1:length(index))/20.0\n",
    "    if i == 1\n",
    "        push!(plots_v,Plots.Linear(time, vs[index],style=string(\"red\"),mark=\"none\",legendentry=\"RL\"))\n",
    "        push!(plots_theta,Plots.Linear(time, thetas[index],style=string(\"red\"),mark=\"none\",legendentry=\"RL\"))\n",
    "        push!(plots_acc,Plots.Linear(time, accs[index],style=string(\"red\"),mark=\"none\",legendentry=\"RL\"))\n",
    "        push!(plots_steer,Plots.Linear(time, steers[index],style=string(\"red\"),mark=\"none\",legendentry=\"RL\"))\n",
    "    else\n",
    "        push!(plots_v,Plots.Linear(time, vs[index],style=string(\"red\"),mark=\"none\"))\n",
    "        push!(plots_theta,Plots.Linear(time, thetas[index],style=string(\"red\"),mark=\"none\"))\n",
    "        push!(plots_acc,Plots.Linear(time, accs[index],style=string(\"red\"),mark=\"none\"))\n",
    "        push!(plots_steer,Plots.Linear(time, steers[index],style=string(\"red\"),mark=\"none\"))\n",
    "    end\n",
    "end"
   ]
  },
  {
   "cell_type": "code",
   "execution_count": null,
   "metadata": {
    "collapsed": true
   },
   "outputs": [],
   "source": [
    "a=Axis(plots_v, legendPos=\"north west\",width=\"10cm\", height=\"10cm\",\n",
    "    xlabel=\"time[s]\",ylabel=\"y[m]\")"
   ]
  },
  {
   "cell_type": "code",
   "execution_count": null,
   "metadata": {
    "collapsed": true
   },
   "outputs": [],
   "source": [
    "save(\"Plot/Trajectory/Speed_Compare.pdf\",a)"
   ]
  },
  {
   "cell_type": "code",
   "execution_count": null,
   "metadata": {
    "collapsed": true
   },
   "outputs": [],
   "source": [
    "a=Axis(plots_theta, legendPos=\"north west\",width=\"10cm\", height=\"10cm\",\n",
    "    xlabel=\"time[s]\",ylabel=\"y[m]\")"
   ]
  },
  {
   "cell_type": "code",
   "execution_count": null,
   "metadata": {
    "collapsed": true
   },
   "outputs": [],
   "source": [
    "save(\"Plot/Trajectory/Theta_Compare.pdf\",a)"
   ]
  },
  {
   "cell_type": "code",
   "execution_count": null,
   "metadata": {
    "collapsed": true
   },
   "outputs": [],
   "source": [
    "a=Axis(plots_acc, legendPos=\"north east\",width=\"10cm\", height=\"10cm\",\n",
    "    xlabel=\"time[s]\",ylabel=\"y[m]\")"
   ]
  },
  {
   "cell_type": "code",
   "execution_count": null,
   "metadata": {
    "collapsed": true
   },
   "outputs": [],
   "source": [
    "save(\"Plot/Trajectory/Acc_Compare.pdf\",a)"
   ]
  },
  {
   "cell_type": "code",
   "execution_count": null,
   "metadata": {
    "collapsed": true
   },
   "outputs": [],
   "source": [
    "a=Axis(plots_steer, legendPos=\"north east\",width=\"10cm\", height=\"10cm\",\n",
    "    xlabel=\"time[s]\",ylabel=\"y[m]\")"
   ]
  },
  {
   "cell_type": "code",
   "execution_count": null,
   "metadata": {
    "collapsed": true
   },
   "outputs": [],
   "source": [
    "save(\"Plot/Trajectory/Steer_Compare.pdf\",a)"
   ]
  },
  {
   "cell_type": "code",
   "execution_count": null,
   "metadata": {
    "collapsed": true
   },
   "outputs": [],
   "source": []
  }
 ],
 "metadata": {
  "kernelspec": {
   "display_name": "Julia 0.6.0",
   "language": "julia",
   "name": "julia-0.6"
  },
  "language_info": {
   "file_extension": ".jl",
   "mimetype": "application/julia",
   "name": "julia",
   "version": "0.6.0"
  }
 },
 "nbformat": 4,
 "nbformat_minor": 2
}
