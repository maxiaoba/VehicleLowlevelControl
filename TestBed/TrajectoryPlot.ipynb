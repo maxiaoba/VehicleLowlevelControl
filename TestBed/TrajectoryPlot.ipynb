{
 "cells": [
  {
   "cell_type": "code",
   "execution_count": 1,
   "metadata": {
    "collapsed": true
   },
   "outputs": [],
   "source": [
    "using PGFPlots"
   ]
  },
  {
   "cell_type": "markdown",
   "metadata": {},
   "source": [
    "## Onvehicle Traj"
   ]
  },
  {
   "cell_type": "code",
   "execution_count": 3,
   "metadata": {
    "collapsed": true
   },
   "outputs": [],
   "source": [
    "path = \"Data/Sep1/Ad05RTheta1RSteer05Abs0FR200/\"\n",
    "names = [\"b_10e3\",\"rarl_1e3\",\"fsp_1e3\",\"mpc\"]\n",
    "for name in names\n",
    "    entries=[\"y\",\"v\",\"theta\",\"k\"]\n",
    "    Plots = Array{Array{PGFPlots.Plots.Linear}}(0)\n",
    "    for i=1:5\n",
    "        xs=readdlm(string(path,\"OnVehicleTraj/\",name,\"_xs\",i,\".txt\"))\n",
    "        obs=readdlm(string(path,\"OnVehicleTraj/\",name,\"_obs\",i,\".txt\"))\n",
    "        for j=1:length(entries)\n",
    "            if i == 1\n",
    "                push!(Plots,Array{PGFPlots.Plots.Linear}(0))\n",
    "            end\n",
    "            legend = string(i)\n",
    "            push!(Plots[j],PGFPlots.Plots.Linear(xs[:], obs[:,j],mark=\"none\",legendentry=string(legend)))\n",
    "        end\n",
    "    end\n",
    "    for i=1:length(entries)\n",
    "        if entries[i] == \"y\"\n",
    "            push!(Plots[i],PGFPlots.Plots.Linear(0:80,0.0*ones(81),style=string(\"black\",\",very thick\"),mark=\"none\"))\n",
    "            push!(Plots[i],PGFPlots.Plots.Linear(0:80,3.0*ones(81),style=string(\"black\",\",very thick\"),mark=\"none\"))\n",
    "        end\n",
    "        a=Axis(Plots[i], legendPos=\"north west\",width=\"40cm\", height=\"10cm\",\n",
    "        xlabel=\"x[m]\",ylabel=entries[i],xmin=0, xmax=80)\n",
    "        save(string(path,\"Plot/OnVehicleTraj/\",name,\"_\",entries[i],\".pdf\"),a)\n",
    "    end\n",
    "end"
   ]
  },
  {
   "cell_type": "markdown",
   "metadata": {},
   "source": [
    "## Simu Traj"
   ]
  },
  {
   "cell_type": "code",
   "execution_count": 19,
   "metadata": {},
   "outputs": [],
   "source": [
    "path = \"Data/Sep1/Ad05RTheta1RSteer05Abs0FR200/\"\n",
    "test = \"SimuTraj/Pareto10r/\"\n",
    "names = [\"b_15e3\",\"rarl_5e3\",\"fsp_5e3\"]\n",
    "for name in names\n",
    "    entries=[\"y\",\"v\",\"theta\",\"k\"]\n",
    "    #Plot states\n",
    "    Plots = Array{Array{PGFPlots.Plots.Linear}}(0)\n",
    "    RewardPlot = Array{PGFPlots.Plots.Linear}(0)\n",
    "    for i=1:5\n",
    "        xs=readdlm(string(path,test,name,\"_xs\",i,\".txt\"))\n",
    "        obs=readdlm(string(path,test,name,\"_obs\",i,\".txt\"))\n",
    "        for j=1:length(entries)\n",
    "            if i == 1\n",
    "                push!(Plots,Array{PGFPlots.Plots.Linear}(0))\n",
    "            end\n",
    "            legend = string(i)\n",
    "            push!(Plots[j],PGFPlots.Plots.Linear(xs[:], obs[:,j],mark=\"none\",legendentry=string(legend)))\n",
    "        end\n",
    "        rewards=readdlm(string(path,test,name,\"_rewards\",i,\".txt\"))\n",
    "        push!(RewardPlot,PGFPlots.Plots.Linear(xs[:], rewards[:],mark=\"none\",legendentry=string(i)))\n",
    "    end\n",
    "    \n",
    "    for i=1:length(entries)\n",
    "        if entries[i] == \"y\"\n",
    "            push!(Plots[i],PGFPlots.Plots.Linear(0:80,0.0*ones(81),style=string(\"black\",\",very thick\"),mark=\"none\"))\n",
    "            push!(Plots[i],PGFPlots.Plots.Linear(0:80,3.0*ones(81),style=string(\"black\",\",very thick\"),mark=\"none\"))\n",
    "        end\n",
    "        a=Axis(Plots[i], legendPos=\"north west\",width=\"40cm\", height=\"10cm\",\n",
    "            xlabel=\"x[m]\",ylabel=entries[i],xmin=100, xmax=180)\n",
    "        save(string(path,\"Plot/\",test,name,\"_\",entries[i],\".pdf\"),a)\n",
    "    end\n",
    "    a=Axis(RewardPlot, legendPos=\"north west\",width=\"40cm\", height=\"10cm\",\n",
    "        xlabel=\"x[m]\",ylabel=\"rewards\",xmin=100, xmax=180)\n",
    "    save(string(path,\"Plot/\",test,name,\"_reward\",\".pdf\"),a)\n",
    "    \n",
    "end"
   ]
  },
  {
   "cell_type": "code",
   "execution_count": null,
   "metadata": {
    "collapsed": true
   },
   "outputs": [],
   "source": []
  }
 ],
 "metadata": {
  "kernelspec": {
   "display_name": "Julia 0.6.0",
   "language": "julia",
   "name": "julia-0.6"
  },
  "language_info": {
   "file_extension": ".jl",
   "mimetype": "application/julia",
   "name": "julia",
   "version": "0.6.0"
  }
 },
 "nbformat": 4,
 "nbformat_minor": 2
}
