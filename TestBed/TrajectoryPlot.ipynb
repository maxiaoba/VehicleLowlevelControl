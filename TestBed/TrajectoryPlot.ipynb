{
 "cells": [
  {
   "cell_type": "code",
   "execution_count": 1,
   "metadata": {
    "collapsed": true
   },
   "outputs": [],
   "source": [
    "using PGFPlots"
   ]
  },
  {
   "cell_type": "code",
   "execution_count": 8,
   "metadata": {},
   "outputs": [],
   "source": [
    "path = \"Data/Sep1/Ad05RTheta1RSteer05Abs0FR200/\"\n",
    "names = [\"b_10e3\",\"rarl_1e3\",\"fsp_1e3\",\"mpc\"]\n",
    "for name in names\n",
    "    entries=[\"y\",\"v\",\"theta\",\"k\"]\n",
    "    Plots = Array{Array{PGFPlots.Plots.Linear}}(0)\n",
    "    for i=1:5\n",
    "        xs=readdlm(string(path,\"Traj/\",name,\"_xs\",i,\".txt\"))\n",
    "        obs=readdlm(string(path,\"Traj/\",name,\"_obs\",i,\".txt\"))\n",
    "        for j=1:length(entries)\n",
    "            if i == 1\n",
    "                push!(Plots,Array{PGFPlots.Plots.Linear}(0))\n",
    "            end\n",
    "            legend = string(i)\n",
    "            push!(Plots[j],PGFPlots.Plots.Linear(xs[:], obs[:,j],mark=\"none\",legendentry=string(legend)))\n",
    "        end\n",
    "    end\n",
    "    for i=1:length(entries)\n",
    "        if entries[i] == \"y\"\n",
    "            push!(Plots[i],PGFPlots.Plots.Linear(0:80,0.0*ones(81),style=string(\"black\",\",very thick\"),mark=\"none\"))\n",
    "            push!(Plots[i],PGFPlots.Plots.Linear(0:80,3.0*ones(81),style=string(\"black\",\",very thick\"),mark=\"none\"))\n",
    "        end\n",
    "        a=Axis(Plots[i], legendPos=\"north west\",width=\"40cm\", height=\"10cm\",\n",
    "        xlabel=\"x[m]\",ylabel=entries[i],xmin=0, xmax=80)\n",
    "        save(string(path,\"Plot/\",name,\"_\",entries[i],\".pdf\"),a)\n",
    "    end\n",
    "end"
   ]
  },
  {
   "cell_type": "markdown",
   "metadata": {
    "collapsed": true
   },
   "source": [
    "## Trajectory"
   ]
  },
  {
   "cell_type": "code",
   "execution_count": null,
   "metadata": {
    "collapsed": true
   },
   "outputs": [],
   "source": [
    "function plot_trajectory(path)\n",
    "    println(path)\n",
    "    plots = Array{PGFPlots.Plots.Linear}(0)\n",
    "    for i = readdir(path)\n",
    "        if !in('.',i)\n",
    "            xs=readdlm(string(path,\"/\",i,\"/xs.txt\"))\n",
    "            ys=readdlm(string(path,\"/\",i,\"/ys.txt\"))\n",
    "            push!(plots,PGFPlots.Plots.Linear(xs[:], ys[:],mark=\"none\",legendentry=i))\n",
    "        end\n",
    "    end\n",
    "    push!(plots,PGFPlots.Plots.Linear(0:80,0.0*ones(81),style=string(\"black\",\",very thick\"),mark=\"none\"))\n",
    "    push!(plots,PGFPlots.Plots.Linear(0:80,3.0*ones(81),style=string(\"black\",\",very thick\"),mark=\"none\"))\n",
    "    a=Axis(plots, legendPos=\"north west\",width=\"40cm\", height=\"4cm\",\n",
    "    xlabel=\"x[m]\",ylabel=\"y[m]\",xmin=0, xmax=80)\n",
    "    save(string(path,\"/trajectory.pdf\"),a)\n",
    "end"
   ]
  },
  {
   "cell_type": "code",
   "execution_count": null,
   "metadata": {
    "collapsed": true
   },
   "outputs": [],
   "source": [
    "function plot_obs(path)\n",
    "    println(path)\n",
    "    entries=[\"y\",\"v\",\"theta\",\"k\"]\n",
    "    Plots = Array{Array{PGFPlots.Plots.Linear}}(0)\n",
    "    plot_num = 0\n",
    "    for (i,trial) in enumerate(readdir(path))\n",
    "        if !in('.',trial)\n",
    "            plot_num += 1\n",
    "            xs=readdlm(string(path,\"/\",trial,\"/xs.txt\"))\n",
    "            obs=readdlm(string(path,\"/\",trial,\"/obs.txt\"))\n",
    "            for j=1:length(entries)\n",
    "                if plot_num == 1\n",
    "                    push!(Plots,Array{PGFPlots.Plots.Linear}(0))\n",
    "                end\n",
    "                legend = replace(trial, \"_\" => \" \")\n",
    "                push!(Plots[j],PGFPlots.Plots.Linear(xs[:], obs[:,j],mark=\"none\",legendentry=string(legend)))\n",
    "            end\n",
    "        end\n",
    "    end\n",
    "    for i=1:length(entries)\n",
    "        if entries[i] == \"y\"\n",
    "            push!(Plots[i],PGFPlots.Plots.Linear(0:80,0.0*ones(81),style=string(\"black\",\",very thick\"),mark=\"none\"))\n",
    "            push!(Plots[i],PGFPlots.Plots.Linear(0:80,3.0*ones(81),style=string(\"black\",\",very thick\"),mark=\"none\"))\n",
    "        end\n",
    "        a=Axis(Plots[i], legendPos=\"north west\",width=\"40cm\", height=\"10cm\",\n",
    "        xlabel=\"x[m]\",ylabel=entries[i],xmin=0, xmax=80)\n",
    "        save(string(path,\"/\",entries[i],\".pdf\"),a)\n",
    "    end\n",
    "end"
   ]
  }
 ],
 "metadata": {
  "kernelspec": {
   "display_name": "Julia 0.6.0",
   "language": "julia",
   "name": "julia-0.6"
  },
  "language_info": {
   "file_extension": ".jl",
   "mimetype": "application/julia",
   "name": "julia",
   "version": "0.6.0"
  }
 },
 "nbformat": 4,
 "nbformat_minor": 2
}
